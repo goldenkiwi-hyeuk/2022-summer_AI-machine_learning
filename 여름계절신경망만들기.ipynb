{
  "nbformat": 4,
  "nbformat_minor": 0,
  "metadata": {
    "colab": {
      "name": "여름계절신경망만들기.ipynb",
      "provenance": [],
      "authorship_tag": "ABX9TyOt5vNouUWs5ZTniJVLt/TC",
      "include_colab_link": true
    },
    "kernelspec": {
      "name": "python3",
      "display_name": "Python 3"
    },
    "language_info": {
      "name": "python"
    }
  },
  "cells": [
    {
      "cell_type": "markdown",
      "metadata": {
        "id": "view-in-github",
        "colab_type": "text"
      },
      "source": [
        "<a href=\"https://colab.research.google.com/github/goldenkiwi-hyeuk/2022-summer_AI-machine_learning/blob/main/%EC%97%AC%EB%A6%84%EA%B3%84%EC%A0%88%EC%8B%A0%EA%B2%BD%EB%A7%9D%EB%A7%8C%EB%93%A4%EA%B8%B0.ipynb\" target=\"_parent\"><img src=\"https://colab.research.google.com/assets/colab-badge.svg\" alt=\"Open In Colab\"/></a>"
      ]
    },
    {
      "cell_type": "code",
      "execution_count": 1,
      "metadata": {
        "id": "Xw21uHlh2iRh"
      },
      "outputs": [],
      "source": [
        "# 오늘은 시험 범위에는 포함되지 않아요\n",
        "# 시험 문항 수는 시험 응시 시작을 누르시면 바로 전체 문항 수가 보이게 됩니다.\n",
        "# 출석이 필수는 아닙니다. 제가 다 체크할께요"
      ]
    },
    {
      "cell_type": "code",
      "source": [
        "# numpy라는 이름의 모듈은 배열 계산, 행렬 같은 유용한 기능을 가지고 있어요"
      ],
      "metadata": {
        "id": "o0mjT4tl2n4Z"
      },
      "execution_count": 2,
      "outputs": []
    },
    {
      "cell_type": "code",
      "source": [
        "import numpy"
      ],
      "metadata": {
        "id": "GTmvtSF829pO"
      },
      "execution_count": 3,
      "outputs": []
    },
    {
      "cell_type": "code",
      "source": [
        "a = numpy.zeros([3,2])"
      ],
      "metadata": {
        "id": "LJRiMewQ2_bq"
      },
      "execution_count": 4,
      "outputs": []
    },
    {
      "cell_type": "code",
      "source": [
        "print(a)"
      ],
      "metadata": {
        "colab": {
          "base_uri": "https://localhost:8080/"
        },
        "id": "1W_KCGqQ3DhX",
        "outputId": "ded26870-d0fd-4917-e7d0-00bc2bbf9286"
      },
      "execution_count": 5,
      "outputs": [
        {
          "output_type": "stream",
          "name": "stdout",
          "text": [
            "[[0. 0.]\n",
            " [0. 0.]\n",
            " [0. 0.]]\n"
          ]
        }
      ]
    },
    {
      "cell_type": "code",
      "source": [
        "# 방금 가져온 numpy 모듈을 이용해 3x2 행렬을 만들었습니다. 이 배열의 모든 원소는 0의 값을 가지게 되며 이 배열 전체를\n",
        "# a라는 변수에 할당했어요. 이제 일부 원소의 값을 변경할게요"
      ],
      "metadata": {
        "id": "_YhS0sfr3F6u"
      },
      "execution_count": 6,
      "outputs": []
    },
    {
      "cell_type": "code",
      "source": [
        "li = [1,2,3]\n",
        "print(li)\n",
        "print(li[0])\n",
        "li[0] = 100\n",
        "print(li)"
      ],
      "metadata": {
        "colab": {
          "base_uri": "https://localhost:8080/"
        },
        "id": "NgTEmWgp3h-z",
        "outputId": "3088128c-39ea-497f-8003-d7f9bc6eba9e"
      },
      "execution_count": 7,
      "outputs": [
        {
          "output_type": "stream",
          "name": "stdout",
          "text": [
            "[1, 2, 3]\n",
            "1\n",
            "[100, 2, 3]\n"
          ]
        }
      ]
    },
    {
      "cell_type": "code",
      "source": [
        "a[0,0]=11\n",
        "a[0,1]=22\n",
        "a[1,0]=89\n",
        "a[2,1]=12\n",
        "print(a)"
      ],
      "metadata": {
        "colab": {
          "base_uri": "https://localhost:8080/"
        },
        "id": "rZHqOI3l3pQb",
        "outputId": "ef8d5cbe-21a3-479d-f235-860332622852"
      },
      "execution_count": 8,
      "outputs": [
        {
          "output_type": "stream",
          "name": "stdout",
          "text": [
            "[[11. 22.]\n",
            " [89.  0.]\n",
            " [ 0. 12.]]\n"
          ]
        }
      ]
    },
    {
      "cell_type": "code",
      "source": [
        "print(a[2,1])"
      ],
      "metadata": {
        "colab": {
          "base_uri": "https://localhost:8080/"
        },
        "id": "m02DLlx232Nf",
        "outputId": "55c87d82-834f-4491-c090-ff8210c2c94c"
      },
      "execution_count": 9,
      "outputs": [
        {
          "output_type": "stream",
          "name": "stdout",
          "text": [
            "12.0\n"
          ]
        }
      ]
    },
    {
      "cell_type": "code",
      "source": [
        "# 간단하죠?\n",
        "# 이번에는 배열을 시각화할게요\n",
        "# 많은 원소를 가지는 큰 배열의 경우, 이 원소들의 값을 하나씩 들여다보는것은 직관적이지 않죠\n",
        "# 시각화하면 전반적인 의미를 파악하는데 도움을 줍니다.\n",
        "# 2차원 배열의 숫자를 시각화하는 방법은 색깔로 구분하면 편해요\n",
        "# 앞의 행렬을 시각화 해볼게요\n",
        "# 파이썬의 시각화 기능을 이용할 수 있게 다른 모듈을 불러올게요."
      ],
      "metadata": {
        "id": "x3bs6GDB34ry"
      },
      "execution_count": 10,
      "outputs": []
    },
    {
      "cell_type": "code",
      "source": [
        "import matplotlib.pyplot # 시각화 담당 모듈"
      ],
      "metadata": {
        "id": "NriGPGKt380J"
      },
      "execution_count": 11,
      "outputs": []
    },
    {
      "cell_type": "code",
      "source": [
        "# 이곳에 구현하기 위해 아래와 같이 선언해주세요"
      ],
      "metadata": {
        "id": "dVUXyPM54CJn"
      },
      "execution_count": 12,
      "outputs": []
    },
    {
      "cell_type": "code",
      "source": [
        "%matplotlib inline"
      ],
      "metadata": {
        "id": "LJAC1trF4HyH"
      },
      "execution_count": 13,
      "outputs": []
    },
    {
      "cell_type": "code",
      "source": [
        "# 이제 배열을 시각화할 준비가 끝났어요"
      ],
      "metadata": {
        "id": "_SHGBXNW4IQt"
      },
      "execution_count": 14,
      "outputs": []
    },
    {
      "cell_type": "code",
      "source": [
        "matplotlib.pyplot.imshow(a, interpolation=\"nearest\")"
      ],
      "metadata": {
        "colab": {
          "base_uri": "https://localhost:8080/",
          "height": 287
        },
        "id": "Nq_GIxhV4Lka",
        "outputId": "bd5b21dc-dd3d-45eb-af55-d5da1a4668e6"
      },
      "execution_count": 15,
      "outputs": [
        {
          "output_type": "execute_result",
          "data": {
            "text/plain": [
              "<matplotlib.image.AxesImage at 0x7f90318d5cd0>"
            ]
          },
          "metadata": {},
          "execution_count": 15
        },
        {
          "output_type": "display_data",
          "data": {
            "text/plain": [
              "<Figure size 432x288 with 1 Axes>"
            ],
            "image/png": "[encoded data removed]"
          },
          "metadata": {
            "needs_background": "light"
          }
        }
      ]
    },
    {
      "cell_type": "code",
      "source": [
        "# 시각화는 imshow()함수에 의해 수행됩니다. 첫번째 매개변수로는 우리가 시각화를 원하는 배열 a를 전달합니다.\n",
        "# 두번째 매개변수로 interpolation 의 속성을 전달합니다. , interpolation=\"nearest\"는 원소간 차이를 뚜렷하게 하려고 햇어요"
      ],
      "metadata": {
        "id": "wC9Wxd-q4PkE"
      },
      "execution_count": 16,
      "outputs": []
    },
    {
      "cell_type": "code",
      "source": [
        "#####################################################################################################################################"
      ],
      "metadata": {
        "id": "_SBf0BYP4ZwI"
      },
      "execution_count": 17,
      "outputs": []
    },
    {
      "cell_type": "code",
      "source": [
        "# 객체를 이해해 볼게요. 객체는 클래스를 정의해두면 원할 때 마다 사용할 수 있다는 점에서 함수와 유사합니다.\n",
        "# 하지만 객체는 훨씬 많은 일을 할 수 있어요"
      ],
      "metadata": {
        "id": "sKAWzR114eGy"
      },
      "execution_count": 18,
      "outputs": []
    },
    {
      "cell_type": "code",
      "source": [
        "# 강아지 클래스"
      ],
      "metadata": {
        "id": "ezMKU2Fp4nTb"
      },
      "execution_count": 19,
      "outputs": []
    },
    {
      "cell_type": "code",
      "source": [
        "class Dog:\n",
        "  # 멍멍\n",
        "  def bark(self):\n",
        "    print(\"멍멍\")\n",
        "    pass\n",
        "  pass"
      ],
      "metadata": {
        "id": "IklKEILF4oUM"
      },
      "execution_count": 20,
      "outputs": []
    },
    {
      "cell_type": "code",
      "source": [
        "# 똘비는 제가 어릴적 길렀던 강아지에요.\n",
        "ddolbi=Dog()\n",
        "ddolbi.bark()"
      ],
      "metadata": {
        "colab": {
          "base_uri": "https://localhost:8080/"
        },
        "id": "-bPDdWIa42BM",
        "outputId": "2d93a043-5af9-428e-de29-a02392cce35d"
      },
      "execution_count": 21,
      "outputs": [
        {
          "output_type": "stream",
          "name": "stdout",
          "text": [
            "멍멍\n"
          ]
        }
      ]
    },
    {
      "cell_type": "code",
      "source": [
        "# 첫번째 똘비라는 변수를 만들고 뭔가 함수같은 것을 호출한결과를 이 변수에 할당하는 것으로 보이죠?\n",
        "# 사실 Dog()는 함수가 아니라 Dog()라는 클래스의 인스턴스를 생성하는 것입니다.\n",
        "# 이렇게 Dog()라는 클래스의 정의로부터 똘비라는 객체를 생성한 것입니다. 이런한 객체를 클래스의 인스턴스라고 불러요"
      ],
      "metadata": {
        "id": "adLtch8L5XCE"
      },
      "execution_count": 22,
      "outputs": []
    },
    {
      "cell_type": "code",
      "source": [
        "# 우리가 마치 똘비라는 객체의 일부분인 것처럼 bark()함수를 호출하고 있다는 점입니다. 이게 가능한 이유는\n",
        "# Dog라는 클래스로부터 생성된 모든 객체는 bark()함수를 가질 수 있기 때문입니다.. \n",
        "# 즉 강아지 클래스의 정의 내에 bark()함수가 있어서요"
      ],
      "metadata": {
        "id": "V7hHEMZM5iB7"
      },
      "execution_count": 23,
      "outputs": []
    },
    {
      "cell_type": "code",
      "source": [
        "# self는 함수를 생성할때 올바른 객체에 할당하기 위해서 입니다."
      ],
      "metadata": {
        "id": "tmfA4D4k5p08"
      },
      "execution_count": 24,
      "outputs": []
    },
    {
      "cell_type": "code",
      "source": [
        "#똘똘이, 루루 => 똘비, 루비\n",
        "ddolbi=Dog()\n",
        "rubi=Dog()\n",
        "\n",
        "ddolbi.bark()\n",
        "rubi.bark()"
      ],
      "metadata": {
        "colab": {
          "base_uri": "https://localhost:8080/"
        },
        "id": "xOeF8osN5sDB",
        "outputId": "4fcb95df-8330-46ff-ce37-9a37cfbe0478"
      },
      "execution_count": 25,
      "outputs": [
        {
          "output_type": "stream",
          "name": "stdout",
          "text": [
            "멍멍\n",
            "멍멍\n"
          ]
        }
      ]
    },
    {
      "cell_type": "code",
      "source": [
        "# 즉 강아지 클래스를 바탕으로 생성되었습니다.. \n",
        "# 그러니까 이 객체가 어떤 형태를 가지며 어떻게 동작하는지에 대해 클래스로 정의해두고 필요할때마다\n",
        "# 그 클래스의 인스턴스를 생성하면 된다는 말입니다. 이것이 클래스의 강력한기능입니다."
      ],
      "metadata": {
        "id": "w6MZs0CQ5zBH"
      },
      "execution_count": 26,
      "outputs": []
    },
    {
      "cell_type": "code",
      "source": [
        "# 클래스는 정의이며, 객체는 정의를 현실에서 구현한 인스턴스라고 이해하면 쉽습니다.\n",
        "# 그냥 멍멍 출력하게 하는 것보다 동일한 템플릿으로 동일한 종류의 여러 객체를 만들 수 있다는 것이 \n",
        "# 얼마나 유용한 일인지 아시게 될거에요\n",
        "# 우리는 이 클래스로 신경망을 정리하고 여러 기능들을 추가할거에요\n",
        "# 이렇게 하면 나중에 클래스를 변경하기도 아주 쉬워요 노드수\n",
        "# self라는 매개변수는 파이썬이 함수를 생성할때 올바른 객체에 할당하기 위해서입니다. 파이썬에서는\n",
        "# 클래스 내부에 함수를 정의할 때는 이렇게 self라고 적어야 합니다."
      ],
      "metadata": {
        "id": "4qVBF0Wy56gv"
      },
      "execution_count": 27,
      "outputs": []
    },
    {
      "cell_type": "code",
      "source": [
        ""
      ],
      "metadata": {
        "id": "9S-V8KGU6D7A"
      },
      "execution_count": 27,
      "outputs": []
    },
    {
      "cell_type": "code",
      "source": [
        "# 이번에는 클래스에 어떻게 데이터 변수를 추가하는지, \n",
        "# 또한 이 데이터의 값을 확인하거나 변경하기 위한 메서드를 어떻게 추가하는지 보겠습니다."
      ],
      "metadata": {
        "id": "e4utnBx_6EWO"
      },
      "execution_count": 28,
      "outputs": []
    },
    {
      "cell_type": "code",
      "source": [
        "#강아지 객체를 위한 클래스\n",
        "class Dog:\n",
        "    #내부 데이터 초기화\n",
        "    def __init__(self, petname, temp):\n",
        "        self.name=petname\n",
        "        self.temperature=temp\n",
        "    #상태확인\n",
        "    def status(self):\n",
        "        print(\"강아지 이름 : \", self.name)\n",
        "        print(\"강아지 체온 : \", self.temperature)\n",
        "        pass\n",
        "    #온도 설정\n",
        "    def setTempature(self, temp):\n",
        "        self.temperature=temp\n",
        "        pass\n",
        "    #개는 짖을 수 있습니다.(bark)\n",
        "    def bark(self):\n",
        "        print(\"멍멍\")\n",
        "        pass\n",
        "\n",
        "    pass"
      ],
      "metadata": {
        "id": "I2LnM31r6Id1"
      },
      "execution_count": 29,
      "outputs": []
    },
    {
      "cell_type": "code",
      "source": [
        "# 파이썬에서는 객체가 최초로 생성될 때 __init__()함수를 호출하도록 약속되어 있습니다.\n",
        "# 즉 객체를 생성하는 순간에\n",
        "# 무언가를 준비하도록 해 해당 객체가 실제로 사용되기 전에 준비 완료 상태를 만들어 주는 함수입니다."
      ],
      "metadata": {
        "id": "fYgj3hD46cM2"
      },
      "execution_count": 30,
      "outputs": []
    },
    {
      "cell_type": "code",
      "source": [
        "ddolbi=Dog(\"똘비\",37)"
      ],
      "metadata": {
        "id": "mhFoba436fz4"
      },
      "execution_count": 31,
      "outputs": []
    },
    {
      "cell_type": "code",
      "source": [
        "ddolbi.status()"
      ],
      "metadata": {
        "colab": {
          "base_uri": "https://localhost:8080/"
        },
        "id": "nCq8p0_V6h0U",
        "outputId": "686e3f14-d36d-456b-d36f-4b90b1324794"
      },
      "execution_count": 32,
      "outputs": [
        {
          "output_type": "stream",
          "name": "stdout",
          "text": [
            "강아지 이름 :  똘비\n",
            "강아지 체온 :  37\n"
          ]
        }
      ]
    },
    {
      "cell_type": "code",
      "source": [
        "ddolbi.setTempature(36)"
      ],
      "metadata": {
        "id": "37cRgIJW6lEt"
      },
      "execution_count": 33,
      "outputs": []
    },
    {
      "cell_type": "code",
      "source": [
        "ddolbi.status()"
      ],
      "metadata": {
        "colab": {
          "base_uri": "https://localhost:8080/"
        },
        "id": "6eT02dX16xe-",
        "outputId": "92b3c5e6-cf1a-4263-fc5d-d804a89baf2e"
      },
      "execution_count": 34,
      "outputs": [
        {
          "output_type": "stream",
          "name": "stdout",
          "text": [
            "강아지 이름 :  똘비\n",
            "강아지 체온 :  36\n"
          ]
        }
      ]
    },
    {
      "cell_type": "code",
      "source": [
        "# 지금부터 파이썬을 이용해 신경망을 만들게요"
      ],
      "metadata": {
        "id": "PXcxbNiA6234"
      },
      "execution_count": 35,
      "outputs": []
    },
    {
      "cell_type": "code",
      "source": [
        "# 단계별로 만들어서 코드를 조금씩 만들어 나갈게요."
      ],
      "metadata": {
        "id": "22qKHbPq683H"
      },
      "execution_count": 36,
      "outputs": []
    },
    {
      "cell_type": "code",
      "source": [
        "# 뼈대코드\n",
        "# 초기화:입력, 은닉, 출력 노드의 수 설정\n",
        "# 학습 : 학습데이터를 통해 학습하고 이에 따라 가중치 업데이트\n",
        "# 질의 :입력을 받아 연산한후 출력노드에서 답을 전달"
      ],
      "metadata": {
        "id": "M5Cgu0Oa6-VC"
      },
      "execution_count": 37,
      "outputs": []
    },
    {
      "cell_type": "code",
      "source": [
        "# 우선 이정도로만 시작할게요"
      ],
      "metadata": {
        "id": "fyChrtWm7Bnr"
      },
      "execution_count": 38,
      "outputs": []
    },
    {
      "cell_type": "code",
      "source": [
        "#신경망 클래스 정의\n",
        "class neuralNetwork:\n",
        "    #신경망 초기화하기\n",
        "    def __init__():\n",
        "        pass\n",
        "\n",
        "    #t신경망 학습시키기\n",
        "    def train():\n",
        "        pass\n",
        "\n",
        "    #신경망에 질의하기\n",
        "    def query():\n",
        "        pass"
      ],
      "metadata": {
        "id": "P-C2I3tc7DSR"
      },
      "execution_count": 39,
      "outputs": []
    },
    {
      "cell_type": "code",
      "source": [
        "# 일단 이렇게 만들고 시작하면 되어요"
      ],
      "metadata": {
        "id": "Q2R5Vo5r7Kxt"
      },
      "execution_count": 40,
      "outputs": []
    },
    {
      "cell_type": "code",
      "source": [
        "# 신경망 초기화하기"
      ],
      "metadata": {
        "id": "AsE72W587PP9"
      },
      "execution_count": 41,
      "outputs": []
    },
    {
      "cell_type": "code",
      "source": [
        "# 우리는 입력노드, 은닉노드, 출력노드의 수를 정해야 합니다.\n",
        "# 우리는 이를 신경망 내에 직접 설정하기보다는 신경망의 객체가 생성될때 매개 변수를 이용해 정의합니다."
      ],
      "metadata": {
        "id": "jkewUQ-I7P1y"
      },
      "execution_count": 42,
      "outputs": []
    },
    {
      "cell_type": "code",
      "source": [
        "#신경망 클래스 정의\n",
        "class neuralNetwork:\n",
        "    #신경망 초기화하기\n",
        "    def __init__(self, inputnodes, hiddennodes, outputnodes, learningrate):\n",
        "        #입력, 은닉, 출력 계층의 노드 개수 설정\n",
        "        self.inodes=inputnodes\n",
        "        self.hnodes=hiddennodes\n",
        "        self.onodes=outputnodes\n",
        "\n",
        "        #학습률\n",
        "        self.lr=learningrate\n",
        "        pass\n",
        "\n",
        "    #t신경망 학습시키기\n",
        "    def train():\n",
        "        pass\n",
        "\n",
        "    #신경망에 질의하기\n",
        "    def query():\n",
        "        pass"
      ],
      "metadata": {
        "id": "4YHRTdf27U0a"
      },
      "execution_count": 43,
      "outputs": []
    },
    {
      "cell_type": "code",
      "source": [
        "# 우리는 아래와 같이 각각의 계층에 3개의 노드를 가지며 0.3의 학습률을 가지는 신경망 객체를 만들어볼게요."
      ],
      "metadata": {
        "id": "dQy_vHJe7fza"
      },
      "execution_count": 44,
      "outputs": []
    },
    {
      "cell_type": "code",
      "source": [
        "# 입력 은닉 출력 노드의 수\n",
        "input_nodes = 3\n",
        "hidden_nodes = 3\n",
        "output_nodes = 3\n",
        "# 학습률 0.3\n",
        "learning_rate = 0.3\n",
        "# 신경망 객체 생성\n",
        "n=neuralNetwork(input_nodes, hidden_nodes, output_nodes, learning_rate)"
      ],
      "metadata": {
        "id": "UYInSGRT7idn"
      },
      "execution_count": 45,
      "outputs": []
    },
    {
      "cell_type": "code",
      "source": [
        "# 신경망의 핵심인 가중치"
      ],
      "metadata": {
        "id": "vZh-y-j_7otQ"
      },
      "execution_count": 46,
      "outputs": []
    },
    {
      "cell_type": "code",
      "source": [
        "# (은닉노드x입력노드)의 크기를 가지는 은닉계층과 입력계층 사이의 가중치의 행렬 Wih\n",
        "# (출력노드x은닉노드)의 크기를 가지는 출력계층과 은닉계층 사이의 가중치의 행렬 Who\n",
        "\n",
        "# Wi"
      ],
      "metadata": {
        "id": "5cUpVc3m7qp-"
      },
      "execution_count": 47,
      "outputs": []
    },
    {
      "cell_type": "code",
      "source": [
        "import numpy"
      ],
      "metadata": {
        "id": "n87Go7Pi7viK"
      },
      "execution_count": 48,
      "outputs": []
    },
    {
      "cell_type": "code",
      "source": [
        "row=3\n",
        "colums=3\n",
        "numpy.random.rand(row, colums) # 0~1 사이의 소숫값을 랜덤으로 뽑아옴"
      ],
      "metadata": {
        "colab": {
          "base_uri": "https://localhost:8080/"
        },
        "id": "v0gZ2PRN7zfq",
        "outputId": "55ab2c6d-a1d6-4ca8-c3e9-39cad86f9354"
      },
      "execution_count": 49,
      "outputs": [
        {
          "output_type": "execute_result",
          "data": {
            "text/plain": [
              "array([[0.10841431, 0.50035745, 0.54734155],\n",
              "       [0.85761391, 0.75444447, 0.51653675],\n",
              "       [0.37451246, 0.25184255, 0.62016739]])"
            ]
          },
          "metadata": {},
          "execution_count": 49
        }
      ]
    },
    {
      "cell_type": "code",
      "source": [
        "# 이는 가중치가 양수가 아니라 음수일 수도 있다는 사실을 무시한 것이기 때문에 개선할 필요가 있습니다.\n",
        "# 예를 들어 범위는 -1.0~1.0이 되어야 합니다.\n",
        "# 일단 간단히 0.5를 빼줌으로써 실질적으로 -0.5~0.5사이의 값을 갖도록 하겠습니다."
      ],
      "metadata": {
        "id": "nePr8MZN8CMp"
      },
      "execution_count": 50,
      "outputs": []
    },
    {
      "cell_type": "code",
      "source": [
        "row=3\n",
        "colums=3\n",
        "numpy.random.rand(row, colums)-0.5"
      ],
      "metadata": {
        "id": "NdLb0J_sDESi",
        "colab": {
          "base_uri": "https://localhost:8080/"
        },
        "outputId": "a310d285-8c03-4478-f60a-ebaffcdfebf5"
      },
      "execution_count": 51,
      "outputs": [
        {
          "output_type": "execute_result",
          "data": {
            "text/plain": [
              "array([[ 0.0300467 ,  0.30426674, -0.44969422],\n",
              "       [ 0.2680861 ,  0.41507548,  0.20273944],\n",
              "       [ 0.16056341,  0.1419729 , -0.36758784]])"
            ]
          },
          "metadata": {},
          "execution_count": 51
        }
      ]
    },
    {
      "cell_type": "code",
      "source": [
        "# 이제 우리는 가중치 행렬을 초기화할 준비가 되었습니다.\n",
        "\n",
        "# 가중치는 신경망에서 본질적인 부분으로 호출되었을때 사용되었다가 사라지는 것이 아니라 \n",
        "# 신경망의 처음부터 끝까지 함께합니다.\n",
        "# 다시말해 가중치는 초기화의 한 부분이 아니라 학습이나 질의 등 다른 함수들로부터 접근이 가능해야 합니다."
      ],
      "metadata": {
        "id": "1Ps21LQ38Mfz"
      },
      "execution_count": 52,
      "outputs": []
    },
    {
      "cell_type": "code",
      "source": [
        "# 이제 self.inodes, self.hnodes, self.onodes를 이용해 2개의 가중치 행렬을 생성합시다."
      ],
      "metadata": {
        "id": "44T5zGPi8aRh"
      },
      "execution_count": 53,
      "outputs": []
    },
    {
      "cell_type": "code",
      "source": [
        "# 가중치 행렬 wih와 who\n",
        "# 배열 내 가중치는 w_i_j로 표기합니다. 노드 i에서 노드 j로 연결됨을 의미\n",
        "# w11 w21\n",
        "# w12 w22"
      ],
      "metadata": {
        "id": "WipupwXI8lSu"
      },
      "execution_count": 54,
      "outputs": []
    },
    {
      "cell_type": "code",
      "source": [
        "# self.wih=(numpy.random.rand(self.hnodes, self.inodes)-0.5)\n",
        "# self.who=(numpy.random.rand(self.onodes, self.hnodes)-0.5)"
      ],
      "metadata": {
        "id": "tRHbydty8sAy"
      },
      "execution_count": 55,
      "outputs": []
    },
    {
      "cell_type": "code",
      "source": [
        "#신경망 클래스 정의\n",
        "class neuralNetwork:\n",
        "    #신경망 초기화하기\n",
        "    def __init__(self, inputnodes, hiddennodes, outputnodes, learningrate):\n",
        "        #입력, 은닉, 출력 계층의 노드 개수 설정\n",
        "        self.inodes=inputnodes\n",
        "        self.hnodes=hiddennodes\n",
        "        self.onodes=outputnodes\n",
        "\n",
        "        #학습률\n",
        "        self.lr=learningrate\n",
        "        #가중치\n",
        "        self.wih=(numpy.random.rand(self.hnodes, self.inodes) - 0.5)\n",
        "        self.who=(numpy.random.rand(self.onodes, self.hnodes) - 0.5)\n",
        "        pass\n",
        "        \n",
        "    #t신경망 학습시키기\n",
        "    def train():\n",
        "        pass\n",
        "\n",
        "    #신경망에 질의하기\n",
        "    def query():\n",
        "        pass"
      ],
      "metadata": {
        "id": "zauRsblC8vA1"
      },
      "execution_count": 56,
      "outputs": []
    },
    {
      "cell_type": "code",
      "source": [
        "# 가중치를 더 정교하게 초기화해볼까요?\n",
        "# 기억하시나요? 0을 중심으로 +-1/루트(들어오는 연결노드의 개수)의 표준편차를 가지는 정규분포에 따라 구한다고 했어요.\n",
        "# numpy에서는 이를 쉽게 구현할 수잇어요\n",
        "# numpy.random.normal()함수를 쓰면 됩니다."
      ],
      "metadata": {
        "id": "lxDFlJVU88nc"
      },
      "execution_count": 57,
      "outputs": []
    },
    {
      "cell_type": "code",
      "source": [
        "#신경망 클래스 정의\n",
        "class neuralNetwork:\n",
        "    #신경망 초기화하기\n",
        "    def __init__(self, inputnodes, hiddennodes, outputnodes, learningrate):\n",
        "        #입력, 은닉, 출력 계층의 노드 개수 설정\n",
        "        self.inodes=inputnodes\n",
        "        self.hnodes=hiddennodes\n",
        "        self.onodes=outputnodes\n",
        "\n",
        "        #학습률\n",
        "        self.lr=learningrate\n",
        "        #더 정교한 가중치\n",
        "        self.wih=numpy.random.normal(0.0, pow(self.hnodes, -0.5), (self.hnodes, self.inodes))\n",
        "        self.who=numpy.random.normal(0.0, pow(self.onodes, -0.5), (self.onodes, self.hnodes))        \n",
        "        pass\n",
        "        \n",
        "    #t신경망 학습시키기\n",
        "    def train():\n",
        "        pass\n",
        "\n",
        "    #신경망에 질의하기\n",
        "    def query():\n",
        "        pass"
      ],
      "metadata": {
        "id": "9H41044-8-CX"
      },
      "execution_count": 58,
      "outputs": []
    },
    {
      "cell_type": "code",
      "source": [
        "# 매개변수는 정규분포의 중심은 0.0으로 설정, \n",
        "# 표준편차는 파이썬의 문법으로 pow(self.hnodes, -0.5)로 표현 했습니다. \n",
        "# 세번째 매개변수는 우리가 원하는 행렬입니다.\n",
        "        # self.wih=numpy.random.normal(0.0, pow(self.hnodes, -0.5), (self.hnodes, self.inodes))\n",
        "        # self.who=numpy.random.normal(0.0, pow(self.onodes, -0.5), (self.onodes, self.hnodes))  "
      ],
      "metadata": {
        "id": "94ii8vf49OnV"
      },
      "execution_count": 59,
      "outputs": []
    },
    {
      "cell_type": "code",
      "source": [
        "# 이제 train()함수로 신경망을 학습하는 코드를 작성하기전에 query()함수부분부터 볼게요. \n",
        "# query()함수는 신경망으로 들어오는 입력을 받아 출력을 반환해줍니다. \n",
        "# 단순한 작업이지만 이를 입력계층부터 은닉계층을거쳐 최종 출력 계층까지 수행해야 한다는 점을 기억해야 합니다. \n",
        "# 또한 신호는 은닉 노드와 출력 노드로 전달될때 가중치 연산과 활성화 함수적용을 거친다는 점을 기억해야 합니다."
      ],
      "metadata": {
        "id": "eKE2lKHO9RrL"
      },
      "execution_count": 60,
      "outputs": []
    },
    {
      "cell_type": "code",
      "source": [
        "# Xhidden=Winput_hidden*I\n",
        "# hidden_inputs=numpy.dot(self.wih, inputs) #numpy.dot = 행렬곱하기"
      ],
      "metadata": {
        "id": "qp4TJg2QW6pD"
      },
      "execution_count": 61,
      "outputs": []
    },
    {
      "cell_type": "code",
      "source": [
        "# 이처럼 파이썬에서는 간단한 코드로 모든 입력 값과 가중치를 연산함으로써 은닉계층의 각 노드로 들어오는 신호를 계산합니다. 입력계층이나 은닉계층의 노드의 수가 달라지더라도 코드를 다시 작성할 필요가 없습니다.\n",
        "# 어떤 경우에도 잘 동작합니다. 그래서 우리가 행렬곱을 배운거에요.\n",
        "# 이제 은닉계층으로 부터 나오는 신호를 구하려면 시그모이드 함수를 적용하는 일만 하면 됩니다."
      ],
      "metadata": {
        "id": "D7Khmat2XBGB"
      },
      "execution_count": 62,
      "outputs": []
    },
    {
      "cell_type": "code",
      "source": [
        "# Ohidden=sigmoid(Xhidden)"
      ],
      "metadata": {
        "id": "jrazcf8gXE6K"
      },
      "execution_count": 63,
      "outputs": []
    },
    {
      "cell_type": "code",
      "source": [
        "# scipy라는 파이썬 라이브러리에 시그모이드 함수가 expit()라는 이름으로 정의되어 있습니다."
      ],
      "metadata": {
        "id": "Zw7oV_54XIp1"
      },
      "execution_count": 64,
      "outputs": []
    },
    {
      "cell_type": "code",
      "source": [
        "# 시그모이드 함수 expit() 사용을 위해 scipy.special 불러오기\n",
        "import scipy.special"
      ],
      "metadata": {
        "id": "c-RHtOjuW54O"
      },
      "execution_count": 65,
      "outputs": []
    },
    {
      "cell_type": "code",
      "source": [
        "# 신경망의 초기화 부분에 정의합니다."
      ],
      "metadata": {
        "id": "EIQZOBhJXNHb"
      },
      "execution_count": 66,
      "outputs": []
    },
    {
      "cell_type": "code",
      "source": [
        "# self.activation_function=lamba x:scipy.special.expit(x)"
      ],
      "metadata": {
        "id": "yboHPYvoXRMf"
      },
      "execution_count": 67,
      "outputs": []
    },
    {
      "cell_type": "code",
      "source": [
        "# 람다는 한줄짜리 함수이며 x가 입력이고 람다가 씌여진 자리에 결과를 놓습니다."
      ],
      "metadata": {
        "id": "ZqVn77LuXT8D"
      },
      "execution_count": 68,
      "outputs": []
    },
    {
      "cell_type": "code",
      "source": [
        "# 은닉계층에서 나가는 신호\n",
        "# hidden_outputs=self.activation_funtion(hidden_inputs)"
      ],
      "metadata": {
        "id": "-fsoP6wHXglH"
      },
      "execution_count": 69,
      "outputs": []
    },
    {
      "cell_type": "code",
      "source": [
        "# 이제 은닉 계층의 노드로부터 나가는 신호들은 hidden_outputs라는 이름의 행렬에 존재하게 됩니다.\n",
        "# 이제 최종적으로 출력계층을 살펴볼 차례입니다."
      ],
      "metadata": {
        "id": "OHgOP-myXkGA"
      },
      "execution_count": 70,
      "outputs": []
    },
    {
      "cell_type": "code",
      "source": [
        "# 은닉계층으로 들어오는 신호 계산\n",
        "hidden_inputs = numpy.dot(self.wih, inputs)\n",
        "# 은닉계층에서 나가는 신호계산\n",
        "hidden_outputs = self.activation_function(hidden_inputs)\n",
        "        \n",
        "#출력계층으로 들어오는 신호 계산\n",
        "final_inputs = numpy.dot(self.who, hidden_outputs)\n",
        "#출력계층에서 나가는 신호 계산\n",
        "final_outputs = self.activation_function(final_inputs)"
      ],
      "metadata": {
        "colab": {
          "base_uri": "https://localhost:8080/",
          "height": 248
        },
        "id": "JjQW9uNfXoeP",
        "outputId": "e3b0085d-5f67-4a6d-fed0-d03b1fc28c51"
      },
      "execution_count": 71,
      "outputs": [
        {
          "output_type": "error",
          "ename": "NameError",
          "evalue": "ignored",
          "traceback": [
            "\u001b[0;31m---------------------------------------------------------------------------\u001b[0m",
            "\u001b[0;31mNameError\u001b[0m                                 Traceback (most recent call last)",
            "\u001b[0;32m<ipython-input-71-958e5947dbb6>\u001b[0m in \u001b[0;36m<module>\u001b[0;34m()\u001b[0m\n\u001b[1;32m      1\u001b[0m \u001b[0;31m# 은닉계층으로 들어오는 신호 계산\u001b[0m\u001b[0;34m\u001b[0m\u001b[0;34m\u001b[0m\u001b[0;34m\u001b[0m\u001b[0m\n\u001b[0;32m----> 2\u001b[0;31m \u001b[0mhidden_inputs\u001b[0m \u001b[0;34m=\u001b[0m \u001b[0mnumpy\u001b[0m\u001b[0;34m.\u001b[0m\u001b[0mdot\u001b[0m\u001b[0;34m(\u001b[0m\u001b[0mself\u001b[0m\u001b[0;34m.\u001b[0m\u001b[0mwih\u001b[0m\u001b[0;34m,\u001b[0m \u001b[0minputs\u001b[0m\u001b[0;34m)\u001b[0m\u001b[0;34m\u001b[0m\u001b[0;34m\u001b[0m\u001b[0m\n\u001b[0m\u001b[1;32m      3\u001b[0m \u001b[0;31m# 은닉계층에서 나가는 신호계산\u001b[0m\u001b[0;34m\u001b[0m\u001b[0;34m\u001b[0m\u001b[0;34m\u001b[0m\u001b[0m\n\u001b[1;32m      4\u001b[0m \u001b[0mhidden_outputs\u001b[0m \u001b[0;34m=\u001b[0m \u001b[0mself\u001b[0m\u001b[0;34m.\u001b[0m\u001b[0mactivation_function\u001b[0m\u001b[0;34m(\u001b[0m\u001b[0mhidden_inputs\u001b[0m\u001b[0;34m)\u001b[0m\u001b[0;34m\u001b[0m\u001b[0;34m\u001b[0m\u001b[0m\n\u001b[1;32m      5\u001b[0m \u001b[0;34m\u001b[0m\u001b[0m\n",
            "\u001b[0;31mNameError\u001b[0m: name 'self' is not defined"
          ]
        }
      ]
    },
    {
      "cell_type": "code",
      "source": [
        "#지금까지 만든거 정리할게요.\n",
        "#신경망 클래스의 정의\n",
        "import numpy\n",
        "import scipy.special\n",
        "class neuralNetwork:\n",
        "    #신경망 초기화하기\n",
        "    def __init__(self, inputnodes, hiddennodes, outputnodes, learningrate):\n",
        "        #입력, 은닉, 출력 계층의 노드 개수 설정\n",
        "        self.inodes=inputnodes\n",
        "        self.hnodes=hiddennodes\n",
        "        self.onodes=outputnodes\n",
        "\n",
        "        #가중치\n",
        "        self.wih=numpy.random.normal(0.0, pow(self.hnodes,-0.5), (self.hnodes, self.inodes))\n",
        "        self.who=numpy.random.normal(0.0, pow(self.onodes,-0.5), (self.onodes, self.hnodes))\n",
        "\n",
        "        #학습률\n",
        "        self.lr=learningrate\n",
        "\n",
        "        #활성화 함수\n",
        "        self.activation_function= lambda x:scipy.special.expit(x) \n",
        "        pass\n",
        "    #신경망 학습시키기\n",
        "    def train():\n",
        "        pass\n",
        "    #신경망에 질의하기\n",
        "    def query(self, inputs_list):\n",
        "        #입력 리스트를 2차원 행렬로 변환\n",
        "        inputs=numpy.array(inputs_list, ndmin=2).T # .T는 전치시키라는 의미\n",
        "        #은닉 계층으로 들어오는 신호를 계산\n",
        "        hidden_inputs=numpy.dot(self.wih, inputs)\n",
        "        #은닉 계층에서 나가는 신호를 계산\n",
        "        hidden_outputs=self.activation_function(hidden_inputs)\n",
        "        #최종 출력 계층으로 들어오는 신호를 계산\n",
        "        final_inputs=numpy.dot(self.who, hidden_outputs)\n",
        "        #최종출력계층에서 나가는 신호를 계산\n",
        "        final_outputs=self.activation_function(final_inputs)\n",
        "        \n",
        "        return final_outputs\n",
        "\n",
        "        pass"
      ],
      "metadata": {
        "id": "kGK_zSlRXq9-"
      },
      "execution_count": 72,
      "outputs": []
    },
    {
      "cell_type": "code",
      "source": [
        "#test"
      ],
      "metadata": {
        "id": "Mgq7e62uX1uX"
      },
      "execution_count": 73,
      "outputs": []
    },
    {
      "cell_type": "code",
      "source": [
        "input_nodes=3\n",
        "hidden_nodes=3\n",
        "output_nodes=3\n",
        "\n",
        "\n",
        "learning_rate=0.3\n",
        "\n",
        "n=neuralNetwork(input_nodes, hidden_nodes, output_nodes, learning_rate)"
      ],
      "metadata": {
        "id": "9udqHrTSX_2t"
      },
      "execution_count": 74,
      "outputs": []
    },
    {
      "cell_type": "code",
      "source": [
        "print(n.query([0.9, 0.1, 0.8]))"
      ],
      "metadata": {
        "colab": {
          "base_uri": "https://localhost:8080/"
        },
        "id": "Ggg4L1MBYBKE",
        "outputId": "ef6f2559-5341-4c5b-b7a1-1b6387eb31fb"
      },
      "execution_count": 75,
      "outputs": [
        {
          "output_type": "stream",
          "name": "stdout",
          "text": [
            "[[0.66401257]\n",
            " [0.39554901]\n",
            " [0.52851489]]\n"
          ]
        }
      ]
    },
    {
      "cell_type": "code",
      "source": [
        "# 이제 학습시킬게요.\n",
        "# 1. 주어진 학습데이터에 대해 결과 값을 계산해 내는 단계입니다. 이과정은 방금의 query()함수에서의 작업과 다르지 않아요\n",
        "# 2. 결과 값을 실제값과 비교하여 이차이을 이용해 가중치를 업데이트 하는 단계입니다. 마법의 수식을 사용하면 되겠죠"
      ],
      "metadata": {
        "id": "tXxLsMpRYIf4"
      },
      "execution_count": 76,
      "outputs": []
    },
    {
      "cell_type": "code",
      "source": [
        "#아까 작성한 코드를 이용하겠습니다."
      ],
      "metadata": {
        "id": "OFz_VOlDYXhe"
      },
      "execution_count": 77,
      "outputs": []
    },
    {
      "cell_type": "code",
      "source": [
        "import numpy\n",
        "import scipy.special\n",
        "class neuralNetwork:\n",
        "    #신경망 초기화하기\n",
        "    def __init__(self, inputnodes, hiddennodes, outputnodes, learningrate):\n",
        "        #입력, 은닉, 출력 계층의 노드 개수 설정\n",
        "        self.inodes=inputnodes\n",
        "        self.hnodes=hiddennodes\n",
        "        self.onodes=outputnodes\n",
        "\n",
        "        self.wih=numpy.random.normal(0.0, pow(self.hnodes,-0.5), (self.hnodes, self.inodes))\n",
        "        self.who=numpy.random.normal(0.0, pow(self.onodes,-0.5), (self.onodes, self.hnodes))\n",
        "\n",
        "        #학습률\n",
        "        self.lr=learningrate\n",
        "\n",
        "        #활성화 함수\n",
        "        self.activation_function= lambda x:scipy.special.expit(x) \n",
        "        pass\n",
        "    #신경망 학습시키기\n",
        "    def train(self, inputs_list, targets_list):\n",
        "        #입력리스트를 2차원의 행렬로 변환\n",
        "        inputs=numpy.array(inputs_list, ndmin=2).T\n",
        "        targets=numpy.array(targets_list, ndmin=2).T\n",
        "\n",
        "        #은닉계층에서 들어오는 신호를계산\n",
        "        hidden_inputs=numpy.dot(self.wih, inputs)\n",
        "        #은닉 계층에서 나가는 신호를 계산\n",
        "        hidden_outputs=self.activation_function(hidden_inputs)\n",
        "        #최종 출력 계층으로 들어오는 신호를 계산\n",
        "        final_inputs=numpy.dot(self.who, hidden_outputs)\n",
        "        #최종출력계층에서 나가는 신호를 계산\n",
        "        final_outputs=self.activation_function(final_inputs)\n",
        "        pass\n",
        "    #신경망에 질의하기\n",
        "    def query(self, inputs_list):\n",
        "        #입력 리스트를 2차원 행렬로 변환\n",
        "        inputs=numpy.array(inputs_list, ndmin=2).T\n",
        "        #은닉 계층으로 들어오는 신호를 계산\n",
        "        hidden_inputs=numpy.dot(self.wih, inputs)\n",
        "        \n",
        "        #은닉 계층에서 나가는 신호를 계산\n",
        "        hidden_outputs=self.activation_function(hidden_inputs)\n",
        "        \n",
        "        #최종 출력 계층으로 들어오는 신호를 계산\n",
        "        final_inputs=numpy.dot(self.who, hidden_outputs)\n",
        "        \n",
        "        #최종출력계층에서 나가는 신호를 계산\n",
        "        final_outputs=self.activation_function(final_inputs)\n",
        "        \n",
        "        return final_outputs\n",
        "\n",
        "        pass"
      ],
      "metadata": {
        "id": "ZjfbC9vrYaWJ"
      },
      "execution_count": 78,
      "outputs": []
    },
    {
      "cell_type": "code",
      "source": [
        "# 이제 단계별로 볼게요.\n",
        "# 우선 오차를 계산해야 합니다. 오차는 학습데이터에 의해 제공되는 실제값과 우리가 계산한 결과 값 간의 차이로 결정되요\n",
        "# 결국 오차는 (실제값 행렬- 계산값 행렬)이라는 연산의 결과 값이 됩니다.\n",
        "# output_errors=targets-final_outputs"
      ],
      "metadata": {
        "id": "zSmXdVjOYcXi"
      },
      "execution_count": 79,
      "outputs": []
    },
    {
      "cell_type": "code",
      "source": [
        "# 우리는 은닉계층의 노드들에 대해 역전파로 오차도 구할 수 있습니다.\n",
        "# 앞에서 연결노드의 가중치에 따라 오차를 나눠서 전달하고 각각의 은닉계층의 노드에 대해 재조합했던 작업이 기억 나세요?"
      ],
      "metadata": {
        "id": "yiL-MmTAY2XN"
      },
      "execution_count": 80,
      "outputs": []
    },
    {
      "cell_type": "code",
      "source": [
        "# 은닉계층의 오차는 은닉계층과 출력계층의 가중치의 전치와 출력계층의 오차의 행렬곱\n",
        "# who의 전치행렬과 오차행렬의 행렬곱"
      ],
      "metadata": {
        "id": "BF3ktRxgY4pq"
      },
      "execution_count": 81,
      "outputs": []
    },
    {
      "cell_type": "code",
      "source": [
        "# hidden_errors=numpy.dot(self.who.T, output_errors)"
      ],
      "metadata": {
        "id": "xyiEOZ9CZBwF"
      },
      "execution_count": 82,
      "outputs": []
    },
    {
      "cell_type": "code",
      "source": [
        "# 은닉계층과 최종계층간의 가중치는 output_errors를 이용하면 되고 입력계층과 은닉계층간의 가중치는 hidden_errors를 이용하면돼요"
      ],
      "metadata": {
        "id": "fO-Feb96ZDC8"
      },
      "execution_count": 83,
      "outputs": []
    },
    {
      "cell_type": "code",
      "source": [
        " #신경망 클래스의 정의\n",
        "class neuralNetwork:\n",
        "    #신경망 초기화하기\n",
        "    def __init__(self, inputnodes, hiddennodes, outputnodes, learningrate):\n",
        "        #입력, 은닉, 출력 계층의 노드 개수 설정\n",
        "        self.inodes=inputnodes\n",
        "        self.hnodes=hiddennodes\n",
        "        self.onodes=outputnodes\n",
        "\n",
        "        self.wih=numpy.random.normal(0.0, pow(self.hnodes,-0.5), (self.hnodes, self.inodes))\n",
        "        self.who=numpy.random.normal(0.0, pow(self.onodes,-0.5), (self.onodes, self.hnodes))\n",
        "\n",
        "        #학습률\n",
        "        self.lr=learningrate\n",
        "\n",
        "        #활성화 함수 정의\n",
        "        self.activation_function=lambda x:scipy.special.expit(x) \n",
        "        pass\n",
        "    \n",
        "    #신경망 학습시키기\n",
        "    def train(self, inputs_list, targets_list):  #targets_list 매개변수가 추가됨\n",
        "        #입력 리스트를 2차원 행렬로 변환\n",
        "        inputs=numpy.array(inputs_list, ndmin=2).T\n",
        "        \n",
        "        targets=numpy.array(targets_list, ndmin=2).T\n",
        "        \n",
        "        #은닉 계층으로 들어오는 신호를 계산\n",
        "        hidden_inputs=numpy.dot(self.wih, inputs)\n",
        "        #은닉 계층에서 나가는 신호를 계산\n",
        "        hidden_outputs=self.activation_function(hidden_inputs)\n",
        "        \n",
        "        #최종 출력계층으로 들어오는 신호를 계산\n",
        "        final_inputs=numpy.dot(self.who, hidden_outputs)\n",
        "        \n",
        "        #최종 출력계에서 나가는 신호\n",
        "        final_outputs=self.activation_function(final_inputs)\n",
        "        \n",
        "        #출력 계층의 오차는 (실제 값-계산 값) 원소간 연산\n",
        "        output_errors=targets-final_outputs\n",
        "        \n",
        "        #은닉 계층의 오차는 가중치에 의해 나뉜 출력 계층의 오차들을 재 조합해 계산\n",
        "        hidden_errors=numpy.dot(self.who.T, output_errors)\n",
        "        \n",
        "        #은닉계층과 출력 계층간의 가중치 업데이트(마법의 수식)\n",
        "        self.who = self.who + self.lr*numpy.dot((output_errors*final_outputs*(1.0-final_outputs)),numpy.transpose(hidden_outputs))\n",
        "        \n",
        "        #입력 계층과 은닉 계층간의 가중치 업데이트(마법의 수식)\n",
        "        self.wih += self.lr*numpy.dot((hidden_errors*hidden_outputs*(1.0-hidden_outputs)), numpy.transpose(inputs))\n",
        "        \n",
        "        pass\n",
        "    #신경망에 질의하기\n",
        "    def query(self, inputs_list):\n",
        "        #입력 리스트를 2차원 행렬로 변환\n",
        "        inputs=numpy.array(inputs_list, ndmin=2).T\n",
        "        #은닉 계층으로 들어오는 신호를 계산\n",
        "        hidden_inputs=numpy.dot(self.wih, inputs)\n",
        "        \n",
        "        #은닉 계층에서 나가는 신호를 계산\n",
        "        hidden_outputs=self.activation_function(hidden_inputs)\n",
        "        \n",
        "        #최종 출력 계층으로 들어오는 신호를 계산\n",
        "        final_inputs=numpy.dot(self.who, hidden_outputs)\n",
        "        \n",
        "        #최종출력계층에서 나가는 신호를 계산\n",
        "        final_outputs=self.activation_function(final_inputs)\n",
        "        \n",
        "        return final_outputs\n",
        "\n",
        "        pass"
      ],
      "metadata": {
        "id": "pvesxKouZGIX"
      },
      "execution_count": 84,
      "outputs": []
    },
    {
      "cell_type": "code",
      "source": [
        "# 먼저 손글씨 데이터를 다운로드합니다. \n",
        "# 우리는 짧은 데이터 100개의 학습용 데이터파일을 열어줍니다.\n",
        "# 이 파일은 손들씨로 쓴 데이터들의 모음이 들어 있습니다."
      ],
      "metadata": {
        "id": "BYNHYjBvZMDl"
      },
      "execution_count": 85,
      "outputs": []
    },
    {
      "cell_type": "code",
      "source": [
        "data_file=open(\"training100.csv\",'r')\n",
        "data_list=data_file.readlines()\n",
        "data_file.close()"
      ],
      "metadata": {
        "colab": {
          "base_uri": "https://localhost:8080/",
          "height": 211
        },
        "id": "5UbdXqkiZk8U",
        "outputId": "e227a99f-d448-4702-b42c-c99c594c016f"
      },
      "execution_count": 86,
      "outputs": [
        {
          "output_type": "error",
          "ename": "FileNotFoundError",
          "evalue": "ignored",
          "traceback": [
            "\u001b[0;31m---------------------------------------------------------------------------\u001b[0m",
            "\u001b[0;31mFileNotFoundError\u001b[0m                         Traceback (most recent call last)",
            "\u001b[0;32m<ipython-input-86-efd0233cef5d>\u001b[0m in \u001b[0;36m<module>\u001b[0;34m()\u001b[0m\n\u001b[0;32m----> 1\u001b[0;31m \u001b[0mdata_file\u001b[0m\u001b[0;34m=\u001b[0m\u001b[0mopen\u001b[0m\u001b[0;34m(\u001b[0m\u001b[0;34m\"training100.csv\"\u001b[0m\u001b[0;34m,\u001b[0m\u001b[0;34m'r'\u001b[0m\u001b[0;34m)\u001b[0m\u001b[0;34m\u001b[0m\u001b[0;34m\u001b[0m\u001b[0m\n\u001b[0m\u001b[1;32m      2\u001b[0m \u001b[0mdata_list\u001b[0m\u001b[0;34m=\u001b[0m\u001b[0mdata_file\u001b[0m\u001b[0;34m.\u001b[0m\u001b[0mreadlines\u001b[0m\u001b[0;34m(\u001b[0m\u001b[0;34m)\u001b[0m\u001b[0;34m\u001b[0m\u001b[0;34m\u001b[0m\u001b[0m\n\u001b[1;32m      3\u001b[0m \u001b[0mdata_file\u001b[0m\u001b[0;34m.\u001b[0m\u001b[0mclose\u001b[0m\u001b[0;34m(\u001b[0m\u001b[0;34m)\u001b[0m\u001b[0;34m\u001b[0m\u001b[0;34m\u001b[0m\u001b[0m\n",
            "\u001b[0;31mFileNotFoundError\u001b[0m: [Errno 2] No such file or directory: 'training100.csv'"
          ]
        }
      ]
    },
    {
      "cell_type": "code",
      "source": [
        "# 첫번째 줄에서 open()함수를 이용해 파일을 열었습니다.\n",
        "# 우리는 data_file이라는 파일에 대해 readlines()라는 함수를 호출해서 해당 파일의\n",
        "# 행을 모두 읽어서 data_list라는 변수에 저장합니다."
      ],
      "metadata": {
        "id": "f4BcJKzxZ43R"
      },
      "execution_count": 87,
      "outputs": []
    },
    {
      "cell_type": "code",
      "source": [
        "len(data_list)"
      ],
      "metadata": {
        "colab": {
          "base_uri": "https://localhost:8080/",
          "height": 174
        },
        "id": "DPy2HC20Z-Q9",
        "outputId": "10e11f93-d217-4d45-c802-7a54be03ab4e"
      },
      "execution_count": 88,
      "outputs": [
        {
          "output_type": "error",
          "ename": "NameError",
          "evalue": "ignored",
          "traceback": [
            "\u001b[0;31m---------------------------------------------------------------------------\u001b[0m",
            "\u001b[0;31mNameError\u001b[0m                                 Traceback (most recent call last)",
            "\u001b[0;32m<ipython-input-88-3c3937b1125c>\u001b[0m in \u001b[0;36m<module>\u001b[0;34m()\u001b[0m\n\u001b[0;32m----> 1\u001b[0;31m \u001b[0mlen\u001b[0m\u001b[0;34m(\u001b[0m\u001b[0mdata_list\u001b[0m\u001b[0;34m)\u001b[0m\u001b[0;34m\u001b[0m\u001b[0;34m\u001b[0m\u001b[0m\n\u001b[0m",
            "\u001b[0;31mNameError\u001b[0m: name 'data_list' is not defined"
          ]
        }
      ]
    },
    {
      "cell_type": "code",
      "source": [
        "data_list[0]"
      ],
      "metadata": {
        "colab": {
          "base_uri": "https://localhost:8080/",
          "height": 174
        },
        "id": "P2deUcMDaD7E",
        "outputId": "d8941f93-a3f8-41ca-cfcc-bfaec4ef2887"
      },
      "execution_count": 89,
      "outputs": [
        {
          "output_type": "error",
          "ename": "NameError",
          "evalue": "ignored",
          "traceback": [
            "\u001b[0;31m---------------------------------------------------------------------------\u001b[0m",
            "\u001b[0;31mNameError\u001b[0m                                 Traceback (most recent call last)",
            "\u001b[0;32m<ipython-input-89-809eaf4f0f92>\u001b[0m in \u001b[0;36m<module>\u001b[0;34m()\u001b[0m\n\u001b[0;32m----> 1\u001b[0;31m \u001b[0mdata_list\u001b[0m\u001b[0;34m[\u001b[0m\u001b[0;36m0\u001b[0m\u001b[0;34m]\u001b[0m\u001b[0;34m\u001b[0m\u001b[0;34m\u001b[0m\u001b[0m\n\u001b[0m",
            "\u001b[0;31mNameError\u001b[0m: name 'data_list' is not defined"
          ]
        }
      ]
    },
    {
      "cell_type": "code",
      "source": [
        "# 여기서 보시면 첫번째 값이 5입니다.\n",
        "# 즉 이 이미지의 정답은 5라는 말이 됩니다. 나머지는 이미지를 구성하는 픽셀의 색상값입니다."
      ],
      "metadata": {
        "id": "iS5zSZfyaKHk"
      },
      "execution_count": 90,
      "outputs": []
    },
    {
      "cell_type": "code",
      "source": [
        "# 구분을 위해 쉼표를 활용하여 문자열을 개별값으로 분리합니다.\n",
        "# 레이블 값인 첫번째는 무시하고 나머지 28*28=784의 값을 추출후 이를 28개행과 28개열로\n",
        "# 가지는 배열로 변환해줍니다.\n",
        "# 이 배열을 시각화해줍니다."
      ],
      "metadata": {
        "id": "uVNPp7gtaMQ5"
      },
      "execution_count": 91,
      "outputs": []
    },
    {
      "cell_type": "code",
      "source": [
        "# 우리는 앞에서 시각화를 해본 라이브러리를 불러올게요.\n",
        "import numpy"
      ],
      "metadata": {
        "id": "R-r3XeJbaNzb"
      },
      "execution_count": 92,
      "outputs": []
    },
    {
      "cell_type": "code",
      "source": [
        "import matplotlib.pyplot \n",
        "%matplotlib inline"
      ],
      "metadata": {
        "id": "kX5lOx_BaPhW"
      },
      "execution_count": 93,
      "outputs": []
    },
    {
      "cell_type": "code",
      "source": [
        "all_values=data_list[0].split(',')\n",
        "image_array=numpy.asfarray(all_values[1:]).reshape((28,28))\n",
        "matplotlib.pyplot.imshow(image_array, cmap='Greys', interpolation='None')"
      ],
      "metadata": {
        "colab": {
          "base_uri": "https://localhost:8080/",
          "height": 211
        },
        "id": "zlN8_qlZaXDN",
        "outputId": "b5152ce1-d938-4e53-9b64-8549a1fe393e"
      },
      "execution_count": 94,
      "outputs": [
        {
          "output_type": "error",
          "ename": "NameError",
          "evalue": "ignored",
          "traceback": [
            "\u001b[0;31m---------------------------------------------------------------------------\u001b[0m",
            "\u001b[0;31mNameError\u001b[0m                                 Traceback (most recent call last)",
            "\u001b[0;32m<ipython-input-94-76745638be33>\u001b[0m in \u001b[0;36m<module>\u001b[0;34m()\u001b[0m\n\u001b[0;32m----> 1\u001b[0;31m \u001b[0mall_values\u001b[0m\u001b[0;34m=\u001b[0m\u001b[0mdata_list\u001b[0m\u001b[0;34m[\u001b[0m\u001b[0;36m0\u001b[0m\u001b[0;34m]\u001b[0m\u001b[0;34m.\u001b[0m\u001b[0msplit\u001b[0m\u001b[0;34m(\u001b[0m\u001b[0;34m','\u001b[0m\u001b[0;34m)\u001b[0m\u001b[0;34m\u001b[0m\u001b[0;34m\u001b[0m\u001b[0m\n\u001b[0m\u001b[1;32m      2\u001b[0m \u001b[0mimage_array\u001b[0m\u001b[0;34m=\u001b[0m\u001b[0mnumpy\u001b[0m\u001b[0;34m.\u001b[0m\u001b[0masfarray\u001b[0m\u001b[0;34m(\u001b[0m\u001b[0mall_values\u001b[0m\u001b[0;34m[\u001b[0m\u001b[0;36m1\u001b[0m\u001b[0;34m:\u001b[0m\u001b[0;34m]\u001b[0m\u001b[0;34m)\u001b[0m\u001b[0;34m.\u001b[0m\u001b[0mreshape\u001b[0m\u001b[0;34m(\u001b[0m\u001b[0;34m(\u001b[0m\u001b[0;36m28\u001b[0m\u001b[0;34m,\u001b[0m\u001b[0;36m28\u001b[0m\u001b[0;34m)\u001b[0m\u001b[0;34m)\u001b[0m\u001b[0;34m\u001b[0m\u001b[0;34m\u001b[0m\u001b[0m\n\u001b[1;32m      3\u001b[0m \u001b[0mmatplotlib\u001b[0m\u001b[0;34m.\u001b[0m\u001b[0mpyplot\u001b[0m\u001b[0;34m.\u001b[0m\u001b[0mimshow\u001b[0m\u001b[0;34m(\u001b[0m\u001b[0mimage_array\u001b[0m\u001b[0;34m,\u001b[0m \u001b[0mcmap\u001b[0m\u001b[0;34m=\u001b[0m\u001b[0;34m'Greys'\u001b[0m\u001b[0;34m,\u001b[0m \u001b[0minterpolation\u001b[0m\u001b[0;34m=\u001b[0m\u001b[0;34m'None'\u001b[0m\u001b[0;34m)\u001b[0m\u001b[0;34m\u001b[0m\u001b[0;34m\u001b[0m\u001b[0m\n",
            "\u001b[0;31mNameError\u001b[0m: name 'data_list' is not defined"
          ]
        }
      ]
    },
    {
      "cell_type": "code",
      "source": [
        "# 이제 이 데이터를 이용해 신경망을 학습 시켜야 합니다. 하지만 데이터를 바로 신경망에\n",
        "# 적용하기전에 데이터를 어떻게 준비해야 할 지 생각해 볼 점이 있습니다.\n",
        "# 우리는 앞에서 입력데이터와 출력데이터의 값들이 적절한 형태를 가져서 활성화 함수의 \n",
        "# 수용 범위 내에 있도록 해야 합니다.\n",
        "# 이를 위해 우린는 0~255 사이의 속하는 입력 색상 값들의 범위를 0.01~1.0 사이에 \n",
        "# 조정하는 것입니다.\n",
        "# 0~255 사이의 값을 가지는 입력 값들을 255로 나누면 0~1사이의 범위를 가지게 됩니다.\n",
        "# 그리고 0.99를 곱하게 되면 0.0~0.99가 됩니다."
      ],
      "metadata": {
        "id": "TaiTP8FuaYfT"
      },
      "execution_count": 95,
      "outputs": []
    },
    {
      "cell_type": "code",
      "source": [
        "scaled_input = (numpy.asfarray(all_values[1:])/255.0*0.99)+0.01\n",
        "print(scaled_input)"
      ],
      "metadata": {
        "colab": {
          "base_uri": "https://localhost:8080/",
          "height": 193
        },
        "id": "G-O2o7hxadN8",
        "outputId": "5889cc86-2bc4-4eac-ca8a-e755f885a18e"
      },
      "execution_count": 96,
      "outputs": [
        {
          "output_type": "error",
          "ename": "NameError",
          "evalue": "ignored",
          "traceback": [
            "\u001b[0;31m---------------------------------------------------------------------------\u001b[0m",
            "\u001b[0;31mNameError\u001b[0m                                 Traceback (most recent call last)",
            "\u001b[0;32m<ipython-input-96-777d1b52a4db>\u001b[0m in \u001b[0;36m<module>\u001b[0;34m()\u001b[0m\n\u001b[0;32m----> 1\u001b[0;31m \u001b[0mscaled_input\u001b[0m \u001b[0;34m=\u001b[0m \u001b[0;34m(\u001b[0m\u001b[0mnumpy\u001b[0m\u001b[0;34m.\u001b[0m\u001b[0masfarray\u001b[0m\u001b[0;34m(\u001b[0m\u001b[0mall_values\u001b[0m\u001b[0;34m[\u001b[0m\u001b[0;36m1\u001b[0m\u001b[0;34m:\u001b[0m\u001b[0;34m]\u001b[0m\u001b[0;34m)\u001b[0m\u001b[0;34m/\u001b[0m\u001b[0;36m255.0\u001b[0m\u001b[0;34m*\u001b[0m\u001b[0;36m0.99\u001b[0m\u001b[0;34m)\u001b[0m\u001b[0;34m+\u001b[0m\u001b[0;36m0.01\u001b[0m\u001b[0;34m\u001b[0m\u001b[0;34m\u001b[0m\u001b[0m\n\u001b[0m\u001b[1;32m      2\u001b[0m \u001b[0mprint\u001b[0m\u001b[0;34m(\u001b[0m\u001b[0mscaled_input\u001b[0m\u001b[0;34m)\u001b[0m\u001b[0;34m\u001b[0m\u001b[0;34m\u001b[0m\u001b[0m\n",
            "\u001b[0;31mNameError\u001b[0m: name 'all_values' is not defined"
          ]
        }
      ]
    },
    {
      "cell_type": "code",
      "source": [
        "# 이제 신경망의 결과 값에 대해 생각해보겠습니다.\n",
        "# 우리는 앞에서 결과 값이 활성화 수가 출력할 수 있는 값의 범위 내에 있어야 한다고 \n",
        "# 배웠어요. 우리의 시그모이드함수는 3과 같은 출력값을 만들 수 없습니다.\n",
        "# 우리는 결과 값의 범위를 조정해줘야 합니다.\n",
        "# 우리가 신경망에 바라는 점은 이미지를 분류해 정확한 레이블을 할당하는 것입니다.\n",
        "# 레이블은 0~9까지 10개 숫자중에 하나입니다.\n",
        "# 다시 말해 10개의 노드로 구성된 출력 계층이 필요하고 각 노드는 가능한 결과 값, \n",
        "# 즉 각 레이블에 해당합니다."
      ],
      "metadata": {
        "id": "FEUcjfnsajsE"
      },
      "execution_count": 97,
      "outputs": []
    },
    {
      "cell_type": "code",
      "source": [
        "onodes=10\n",
        "targets=numpy.zeros(onodes)+0.01\n",
        "targets[int(all_values[0])]=0.99"
      ],
      "metadata": {
        "colab": {
          "base_uri": "https://localhost:8080/",
          "height": 211
        },
        "id": "Uhsi_1Tdavfc",
        "outputId": "256e2bea-256d-4b14-97a2-019a0a59c050"
      },
      "execution_count": 98,
      "outputs": [
        {
          "output_type": "error",
          "ename": "NameError",
          "evalue": "ignored",
          "traceback": [
            "\u001b[0;31m---------------------------------------------------------------------------\u001b[0m",
            "\u001b[0;31mNameError\u001b[0m                                 Traceback (most recent call last)",
            "\u001b[0;32m<ipython-input-98-1abbe38550b2>\u001b[0m in \u001b[0;36m<module>\u001b[0;34m()\u001b[0m\n\u001b[1;32m      1\u001b[0m \u001b[0monodes\u001b[0m\u001b[0;34m=\u001b[0m\u001b[0;36m10\u001b[0m\u001b[0;34m\u001b[0m\u001b[0;34m\u001b[0m\u001b[0m\n\u001b[1;32m      2\u001b[0m \u001b[0mtargets\u001b[0m\u001b[0;34m=\u001b[0m\u001b[0mnumpy\u001b[0m\u001b[0;34m.\u001b[0m\u001b[0mzeros\u001b[0m\u001b[0;34m(\u001b[0m\u001b[0monodes\u001b[0m\u001b[0;34m)\u001b[0m\u001b[0;34m+\u001b[0m\u001b[0;36m0.01\u001b[0m\u001b[0;34m\u001b[0m\u001b[0;34m\u001b[0m\u001b[0m\n\u001b[0;32m----> 3\u001b[0;31m \u001b[0mtargets\u001b[0m\u001b[0;34m[\u001b[0m\u001b[0mint\u001b[0m\u001b[0;34m(\u001b[0m\u001b[0mall_values\u001b[0m\u001b[0;34m[\u001b[0m\u001b[0;36m0\u001b[0m\u001b[0;34m]\u001b[0m\u001b[0;34m)\u001b[0m\u001b[0;34m]\u001b[0m\u001b[0;34m=\u001b[0m\u001b[0;36m0.99\u001b[0m\u001b[0;34m\u001b[0m\u001b[0;34m\u001b[0m\u001b[0m\n\u001b[0m",
            "\u001b[0;31mNameError\u001b[0m: name 'all_values' is not defined"
          ]
        }
      ]
    },
    {
      "cell_type": "code",
      "source": [
        "#mnist 테스트데이터 불러오기\n",
        "test_file=open(\"test10.csv\", \"r\",encoding='utf-8-sig')\n",
        "test_data_list=test_file.readlines()\n",
        "test_file.close()"
      ],
      "metadata": {
        "colab": {
          "base_uri": "https://localhost:8080/",
          "height": 229
        },
        "id": "0BXYX7rtawLz",
        "outputId": "fe41b9e1-35fe-45b2-bab1-a534c64dc108"
      },
      "execution_count": 99,
      "outputs": [
        {
          "output_type": "error",
          "ename": "FileNotFoundError",
          "evalue": "ignored",
          "traceback": [
            "\u001b[0;31m---------------------------------------------------------------------------\u001b[0m",
            "\u001b[0;31mFileNotFoundError\u001b[0m                         Traceback (most recent call last)",
            "\u001b[0;32m<ipython-input-99-9280e7734e06>\u001b[0m in \u001b[0;36m<module>\u001b[0;34m()\u001b[0m\n\u001b[1;32m      1\u001b[0m \u001b[0;31m#mnist 테스트데이터 불러오기\u001b[0m\u001b[0;34m\u001b[0m\u001b[0;34m\u001b[0m\u001b[0;34m\u001b[0m\u001b[0m\n\u001b[0;32m----> 2\u001b[0;31m \u001b[0mtest_file\u001b[0m\u001b[0;34m=\u001b[0m\u001b[0mopen\u001b[0m\u001b[0;34m(\u001b[0m\u001b[0;34m\"test10.csv\"\u001b[0m\u001b[0;34m,\u001b[0m \u001b[0;34m\"r\"\u001b[0m\u001b[0;34m,\u001b[0m\u001b[0mencoding\u001b[0m\u001b[0;34m=\u001b[0m\u001b[0;34m'utf-8-sig'\u001b[0m\u001b[0;34m)\u001b[0m\u001b[0;34m\u001b[0m\u001b[0;34m\u001b[0m\u001b[0m\n\u001b[0m\u001b[1;32m      3\u001b[0m \u001b[0mtest_data_list\u001b[0m\u001b[0;34m=\u001b[0m\u001b[0mtest_file\u001b[0m\u001b[0;34m.\u001b[0m\u001b[0mreadlines\u001b[0m\u001b[0;34m(\u001b[0m\u001b[0;34m)\u001b[0m\u001b[0;34m\u001b[0m\u001b[0;34m\u001b[0m\u001b[0m\n\u001b[1;32m      4\u001b[0m \u001b[0mtest_file\u001b[0m\u001b[0;34m.\u001b[0m\u001b[0mclose\u001b[0m\u001b[0;34m(\u001b[0m\u001b[0;34m)\u001b[0m\u001b[0;34m\u001b[0m\u001b[0;34m\u001b[0m\u001b[0m\n",
            "\u001b[0;31mFileNotFoundError\u001b[0m: [Errno 2] No such file or directory: 'test10.csv'"
          ]
        }
      ]
    },
    {
      "cell_type": "code",
      "source": [
        "# 첫번째 레코드를 이용해 학습된 신경망에 질의\n",
        "all_values=test_data_list[0].split(',')\n",
        "# 프린트 레이블\n",
        "print(all_values[0])"
      ],
      "metadata": {
        "colab": {
          "base_uri": "https://localhost:8080/",
          "height": 229
        },
        "id": "JzVOMn9FbYtI",
        "outputId": "695a54bb-e1dc-41c5-b95e-badc482563d9"
      },
      "execution_count": 100,
      "outputs": [
        {
          "output_type": "error",
          "ename": "NameError",
          "evalue": "ignored",
          "traceback": [
            "\u001b[0;31m---------------------------------------------------------------------------\u001b[0m",
            "\u001b[0;31mNameError\u001b[0m                                 Traceback (most recent call last)",
            "\u001b[0;32m<ipython-input-100-712b4b0683c8>\u001b[0m in \u001b[0;36m<module>\u001b[0;34m()\u001b[0m\n\u001b[1;32m      1\u001b[0m \u001b[0;31m# 첫번째 레코드를 이용해 학습된 신경망에 질의\u001b[0m\u001b[0;34m\u001b[0m\u001b[0;34m\u001b[0m\u001b[0;34m\u001b[0m\u001b[0m\n\u001b[0;32m----> 2\u001b[0;31m \u001b[0mall_values\u001b[0m\u001b[0;34m=\u001b[0m\u001b[0mtest_data_list\u001b[0m\u001b[0;34m[\u001b[0m\u001b[0;36m0\u001b[0m\u001b[0;34m]\u001b[0m\u001b[0;34m.\u001b[0m\u001b[0msplit\u001b[0m\u001b[0;34m(\u001b[0m\u001b[0;34m','\u001b[0m\u001b[0;34m)\u001b[0m\u001b[0;34m\u001b[0m\u001b[0;34m\u001b[0m\u001b[0m\n\u001b[0m\u001b[1;32m      3\u001b[0m \u001b[0;31m# 프린트 레이블\u001b[0m\u001b[0;34m\u001b[0m\u001b[0;34m\u001b[0m\u001b[0;34m\u001b[0m\u001b[0m\n\u001b[1;32m      4\u001b[0m \u001b[0mprint\u001b[0m\u001b[0;34m(\u001b[0m\u001b[0mall_values\u001b[0m\u001b[0;34m[\u001b[0m\u001b[0;36m0\u001b[0m\u001b[0;34m]\u001b[0m\u001b[0;34m)\u001b[0m\u001b[0;34m\u001b[0m\u001b[0;34m\u001b[0m\u001b[0m\n",
            "\u001b[0;31mNameError\u001b[0m: name 'test_data_list' is not defined"
          ]
        }
      ]
    },
    {
      "cell_type": "code",
      "source": [
        "image_array=numpy.asfarray(all_values[1:]).reshape((28,28))\n",
        "matplotlib.pyplot.imshow(image_array, cmap='Greys', interpolation='None')"
      ],
      "metadata": {
        "colab": {
          "base_uri": "https://localhost:8080/",
          "height": 193
        },
        "id": "H7g7Q9tibdDU",
        "outputId": "07acb35d-a377-440f-a9c1-eafde12745c8"
      },
      "execution_count": 101,
      "outputs": [
        {
          "output_type": "error",
          "ename": "NameError",
          "evalue": "ignored",
          "traceback": [
            "\u001b[0;31m---------------------------------------------------------------------------\u001b[0m",
            "\u001b[0;31mNameError\u001b[0m                                 Traceback (most recent call last)",
            "\u001b[0;32m<ipython-input-101-405ad8ae7465>\u001b[0m in \u001b[0;36m<module>\u001b[0;34m()\u001b[0m\n\u001b[0;32m----> 1\u001b[0;31m \u001b[0mimage_array\u001b[0m\u001b[0;34m=\u001b[0m\u001b[0mnumpy\u001b[0m\u001b[0;34m.\u001b[0m\u001b[0masfarray\u001b[0m\u001b[0;34m(\u001b[0m\u001b[0mall_values\u001b[0m\u001b[0;34m[\u001b[0m\u001b[0;36m1\u001b[0m\u001b[0;34m:\u001b[0m\u001b[0;34m]\u001b[0m\u001b[0;34m)\u001b[0m\u001b[0;34m.\u001b[0m\u001b[0mreshape\u001b[0m\u001b[0;34m(\u001b[0m\u001b[0;34m(\u001b[0m\u001b[0;36m28\u001b[0m\u001b[0;34m,\u001b[0m\u001b[0;36m28\u001b[0m\u001b[0;34m)\u001b[0m\u001b[0;34m)\u001b[0m\u001b[0;34m\u001b[0m\u001b[0;34m\u001b[0m\u001b[0m\n\u001b[0m\u001b[1;32m      2\u001b[0m \u001b[0mmatplotlib\u001b[0m\u001b[0;34m.\u001b[0m\u001b[0mpyplot\u001b[0m\u001b[0;34m.\u001b[0m\u001b[0mimshow\u001b[0m\u001b[0;34m(\u001b[0m\u001b[0mimage_array\u001b[0m\u001b[0;34m,\u001b[0m \u001b[0mcmap\u001b[0m\u001b[0;34m=\u001b[0m\u001b[0;34m'Greys'\u001b[0m\u001b[0;34m,\u001b[0m \u001b[0minterpolation\u001b[0m\u001b[0;34m=\u001b[0m\u001b[0;34m'None'\u001b[0m\u001b[0;34m)\u001b[0m\u001b[0;34m\u001b[0m\u001b[0;34m\u001b[0m\u001b[0m\n",
            "\u001b[0;31mNameError\u001b[0m: name 'all_values' is not defined"
          ]
        }
      ]
    },
    {
      "cell_type": "code",
      "source": [
        "n=neuralNetwork(input_nodes, hidden_nodes, output_nodes, learning_rate)"
      ],
      "metadata": {
        "id": "5Opl9cY7be2w"
      },
      "execution_count": 102,
      "outputs": []
    },
    {
      "cell_type": "code",
      "source": [
        "#3계층 신경망으로 mnist 데이터를 학습하는 코드\n",
        "\n",
        "import numpy\n",
        "#시그모이드 함수 expit()사용을 위해 scipy.special 불러오기\n",
        "import scipy.special\n",
        "#행렬을 시각화하기위한 라이브러리\n",
        "import matplotlib.pyplot\n",
        "#시각화가 외부 윈도우가 아닌 현재의 노트북 내에서 보이도록 설정\n",
        "%matplotlib inline\n",
        "\n",
        "#클래스 정의\n",
        "class neuralNetwork:\n",
        "    def __init__(self, inputnodes, hiddennodes, outputnodes, learningrate):\n",
        "        #입력, 은닉, 출력 계층의 노드 개수 설정\n",
        "        self.inodes=inputnodes\n",
        "        self.hnodes=hiddennodes\n",
        "        self.onodes=outputnodes\n",
        "        #가중치행렬 sih와 who\n",
        "        #배열 내 가중치는 w_i_h로 표기. 노드 i에서 다음 계층의 노드 j로 연결됨을 의미\n",
        "        #w11, w21\n",
        "        #w12, w22\n",
        "        self.wih=numpy.random.normal(0.0, pow(self.hnodes,-0.5), (self.hnodes, self.inodes))\n",
        "        self.who=numpy.random.normal(0.0, pow(self.onodes,-0.5), (self.onodes, self.hnodes))\n",
        "        #학습률\n",
        "        self.lr=learningrate\n",
        "        #활성화 함수로 시그모이드 함수를 이용\n",
        "        self.activation_function= lambda x:scipy.special.expit(x)\n",
        "        \n",
        "        pass\n",
        "    #신경망 학습시키기\n",
        "    def train(self, inputs_list, targets_list):\n",
        "        #입력 리스트를 2차원 행렬로 변환\n",
        "        inputs=numpy.array(inputs_list, ndmin=2).T\n",
        "        targets=numpy.array(targets_list, ndmin=2).T\n",
        "        \n",
        "        #은닉 계층으로 들어오는 신호를 계산\n",
        "        hidden_inputs=numpy.dot(self.wih, inputs)\n",
        "        #은닉 계층에서 나가는 신호를 계산\n",
        "        hidden_outputs=self.activation_function(hidden_inputs)\n",
        "        \n",
        "        #최종 출력계층으로 들어오는 신호를 계산\n",
        "        final_inputs=numpy.dot(self.who, hidden_outputs)\n",
        "        \n",
        "        #최종 출력계응으서 나가는 신호\n",
        "        final_outputs=self.activation_function(final_inputs)\n",
        "        \n",
        "           #출력 계층의 ㅣ오차는 (실제값-계산 값)\n",
        "        output_errors=targets-final_outputs\n",
        "        \n",
        "        #은닉 계층의 오차는 가중치에 의해 나뉜 출력 계층의 오차들을 재 조합해 계산\n",
        "        hidden_errors=numpy.dot(self.who.T, output_errors)\n",
        "        \n",
        "        #은닉계층과 출력 계층간의 가중치 업데이트\n",
        "        self.who += self.lr*numpy.dot((output_errors*final_outputs*(1.0-final_outputs)),numpy.transpose(hidden_outputs))\n",
        "        \n",
        "        #입력 계층과 은닉 계층간의 가중치 업데이트\n",
        "        self.wih += self.lr*numpy.dot((hidden_errors*hidden_outputs*(1.0-hidden_outputs)), numpy.transpose(inputs))\n",
        "        \n",
        "        pass\n",
        "    #신경망에 질의하기\n",
        "    def query(self, inputs_list):\n",
        "        #입력 리스트를 2차원 행렬로 변환\n",
        "        inputs=numpy.array(inputs_list, ndmin=2).T\n",
        "        \n",
        "        #은닉 계층으로 들어오는 신호를 계산\n",
        "        hidden_inputs=numpy.dot(self.wih, inputs)\n",
        "        \n",
        "        #은닉 계층에서 나가는 신호를 계산\n",
        "        hidden_outputs=self.activation_function(hidden_inputs)\n",
        "        \n",
        "        #최종 출력 계층으로 들어오는 신호를 계산\n",
        "        final_inputs=numpy.dot(self.who, hidden_outputs)\n",
        "        \n",
        "        #최종출력계층에서 나가는 신호를 계산\n",
        "        final_outputs=self.activation_function(final_inputs)\n",
        "        \n",
        "        return final_outputs\n",
        "        pass\n",
        "#입력 은닉 출력 노드 수\n",
        "input_nodes=784\n",
        "hidden_nodes=200\n",
        "output_nodes=10\n",
        "\n",
        "#학습률 0.3\n",
        "learning_rate=0.3\n",
        "\n",
        "n=neuralNetwork(input_nodes, hidden_nodes, output_nodes, learning_rate)\n",
        "\n",
        "traing_data_file=open(\"training100.csv\", \"r\",encoding='utf-8-sig')\n",
        "traing_data_list=traing_data_file.readlines()\n",
        "traing_data_file.close()\n",
        "\n",
        "for record in traing_data_list:\n",
        "    #레코드를 쉼표에 의해 분리\n",
        "    all_values=record.split(',')\n",
        "    #입력 값의 멈위와 값 조정\n",
        "    inputs=(numpy.asfarray(all_values[1:])/255.0*0.99)+0.01\n",
        "    #결과 값 생성(tlfwp rkqtdls 0.99외에는 모두 0.1)\n",
        "    targets=numpy.zeros(output_nodes)+0.01\n",
        "    #all values[0]이 이 레코드의 결과 값\n",
        "    targets[int(all_values[0])]=0.99\n",
        "    n.train(inputs, targets)\n",
        "    pass\n"
      ],
      "metadata": {
        "colab": {
          "base_uri": "https://localhost:8080/",
          "height": 248
        },
        "id": "LopHiFifbgp2",
        "outputId": "1db05fe8-5079-49a6-a3cb-cc2b2f8140b0"
      },
      "execution_count": 103,
      "outputs": [
        {
          "output_type": "error",
          "ename": "FileNotFoundError",
          "evalue": "ignored",
          "traceback": [
            "\u001b[0;31m---------------------------------------------------------------------------\u001b[0m",
            "\u001b[0;31mFileNotFoundError\u001b[0m                         Traceback (most recent call last)",
            "\u001b[0;32m<ipython-input-103-f4ecfec04f5a>\u001b[0m in \u001b[0;36m<module>\u001b[0;34m()\u001b[0m\n\u001b[1;32m     87\u001b[0m \u001b[0mn\u001b[0m\u001b[0;34m=\u001b[0m\u001b[0mneuralNetwork\u001b[0m\u001b[0;34m(\u001b[0m\u001b[0minput_nodes\u001b[0m\u001b[0;34m,\u001b[0m \u001b[0mhidden_nodes\u001b[0m\u001b[0;34m,\u001b[0m \u001b[0moutput_nodes\u001b[0m\u001b[0;34m,\u001b[0m \u001b[0mlearning_rate\u001b[0m\u001b[0;34m)\u001b[0m\u001b[0;34m\u001b[0m\u001b[0;34m\u001b[0m\u001b[0m\n\u001b[1;32m     88\u001b[0m \u001b[0;34m\u001b[0m\u001b[0m\n\u001b[0;32m---> 89\u001b[0;31m \u001b[0mtraing_data_file\u001b[0m\u001b[0;34m=\u001b[0m\u001b[0mopen\u001b[0m\u001b[0;34m(\u001b[0m\u001b[0;34m\"training100.csv\"\u001b[0m\u001b[0;34m,\u001b[0m \u001b[0;34m\"r\"\u001b[0m\u001b[0;34m,\u001b[0m\u001b[0mencoding\u001b[0m\u001b[0;34m=\u001b[0m\u001b[0;34m'utf-8-sig'\u001b[0m\u001b[0;34m)\u001b[0m\u001b[0;34m\u001b[0m\u001b[0;34m\u001b[0m\u001b[0m\n\u001b[0m\u001b[1;32m     90\u001b[0m \u001b[0mtraing_data_list\u001b[0m\u001b[0;34m=\u001b[0m\u001b[0mtraing_data_file\u001b[0m\u001b[0;34m.\u001b[0m\u001b[0mreadlines\u001b[0m\u001b[0;34m(\u001b[0m\u001b[0;34m)\u001b[0m\u001b[0;34m\u001b[0m\u001b[0;34m\u001b[0m\u001b[0m\n\u001b[1;32m     91\u001b[0m \u001b[0mtraing_data_file\u001b[0m\u001b[0;34m.\u001b[0m\u001b[0mclose\u001b[0m\u001b[0;34m(\u001b[0m\u001b[0;34m)\u001b[0m\u001b[0;34m\u001b[0m\u001b[0;34m\u001b[0m\u001b[0m\n",
            "\u001b[0;31mFileNotFoundError\u001b[0m: [Errno 2] No such file or directory: 'training100.csv'"
          ]
        }
      ]
    },
    {
      "cell_type": "code",
      "source": [
        "#mnist 테스트데이터 불러오기\n",
        "test_file=open(\"test10.csv\", \"r\",encoding='utf-8-sig')\n",
        "test_data_list=test_file.readlines()\n",
        "test_file.close()"
      ],
      "metadata": {
        "colab": {
          "base_uri": "https://localhost:8080/",
          "height": 229
        },
        "id": "50AVFiwAbnnl",
        "outputId": "f57695f1-630c-424b-b8e6-aca98af0e57c"
      },
      "execution_count": 104,
      "outputs": [
        {
          "output_type": "error",
          "ename": "FileNotFoundError",
          "evalue": "ignored",
          "traceback": [
            "\u001b[0;31m---------------------------------------------------------------------------\u001b[0m",
            "\u001b[0;31mFileNotFoundError\u001b[0m                         Traceback (most recent call last)",
            "\u001b[0;32m<ipython-input-104-9280e7734e06>\u001b[0m in \u001b[0;36m<module>\u001b[0;34m()\u001b[0m\n\u001b[1;32m      1\u001b[0m \u001b[0;31m#mnist 테스트데이터 불러오기\u001b[0m\u001b[0;34m\u001b[0m\u001b[0;34m\u001b[0m\u001b[0;34m\u001b[0m\u001b[0m\n\u001b[0;32m----> 2\u001b[0;31m \u001b[0mtest_file\u001b[0m\u001b[0;34m=\u001b[0m\u001b[0mopen\u001b[0m\u001b[0;34m(\u001b[0m\u001b[0;34m\"test10.csv\"\u001b[0m\u001b[0;34m,\u001b[0m \u001b[0;34m\"r\"\u001b[0m\u001b[0;34m,\u001b[0m\u001b[0mencoding\u001b[0m\u001b[0;34m=\u001b[0m\u001b[0;34m'utf-8-sig'\u001b[0m\u001b[0;34m)\u001b[0m\u001b[0;34m\u001b[0m\u001b[0;34m\u001b[0m\u001b[0m\n\u001b[0m\u001b[1;32m      3\u001b[0m \u001b[0mtest_data_list\u001b[0m\u001b[0;34m=\u001b[0m\u001b[0mtest_file\u001b[0m\u001b[0;34m.\u001b[0m\u001b[0mreadlines\u001b[0m\u001b[0;34m(\u001b[0m\u001b[0;34m)\u001b[0m\u001b[0;34m\u001b[0m\u001b[0;34m\u001b[0m\u001b[0m\n\u001b[1;32m      4\u001b[0m \u001b[0mtest_file\u001b[0m\u001b[0;34m.\u001b[0m\u001b[0mclose\u001b[0m\u001b[0;34m(\u001b[0m\u001b[0;34m)\u001b[0m\u001b[0;34m\u001b[0m\u001b[0;34m\u001b[0m\u001b[0m\n",
            "\u001b[0;31mFileNotFoundError\u001b[0m: [Errno 2] No such file or directory: 'test10.csv'"
          ]
        }
      ]
    },
    {
      "cell_type": "code",
      "source": [
        "#첫번째 레코드를 이용해 학습된 신경망에 질의\n",
        "all_values=test_data_list[0].split(',')\n",
        "#프린트 레이블\n",
        "print(all_values[0])"
      ],
      "metadata": {
        "colab": {
          "base_uri": "https://localhost:8080/",
          "height": 229
        },
        "id": "Ut88LvkEb3XV",
        "outputId": "6b389c09-2dc4-481a-9b6c-78c8df920054"
      },
      "execution_count": 105,
      "outputs": [
        {
          "output_type": "error",
          "ename": "NameError",
          "evalue": "ignored",
          "traceback": [
            "\u001b[0;31m---------------------------------------------------------------------------\u001b[0m",
            "\u001b[0;31mNameError\u001b[0m                                 Traceback (most recent call last)",
            "\u001b[0;32m<ipython-input-105-096891d8e0ca>\u001b[0m in \u001b[0;36m<module>\u001b[0;34m()\u001b[0m\n\u001b[1;32m      1\u001b[0m \u001b[0;31m#첫번째 레코드를 이용해 학습된 신경망에 질의\u001b[0m\u001b[0;34m\u001b[0m\u001b[0;34m\u001b[0m\u001b[0;34m\u001b[0m\u001b[0m\n\u001b[0;32m----> 2\u001b[0;31m \u001b[0mall_values\u001b[0m\u001b[0;34m=\u001b[0m\u001b[0mtest_data_list\u001b[0m\u001b[0;34m[\u001b[0m\u001b[0;36m0\u001b[0m\u001b[0;34m]\u001b[0m\u001b[0;34m.\u001b[0m\u001b[0msplit\u001b[0m\u001b[0;34m(\u001b[0m\u001b[0;34m','\u001b[0m\u001b[0;34m)\u001b[0m\u001b[0;34m\u001b[0m\u001b[0;34m\u001b[0m\u001b[0m\n\u001b[0m\u001b[1;32m      3\u001b[0m \u001b[0;31m#프린트 레이블\u001b[0m\u001b[0;34m\u001b[0m\u001b[0;34m\u001b[0m\u001b[0;34m\u001b[0m\u001b[0m\n\u001b[1;32m      4\u001b[0m \u001b[0mprint\u001b[0m\u001b[0;34m(\u001b[0m\u001b[0mall_values\u001b[0m\u001b[0;34m[\u001b[0m\u001b[0;36m0\u001b[0m\u001b[0;34m]\u001b[0m\u001b[0;34m)\u001b[0m\u001b[0;34m\u001b[0m\u001b[0;34m\u001b[0m\u001b[0m\n",
            "\u001b[0;31mNameError\u001b[0m: name 'test_data_list' is not defined"
          ]
        }
      ]
    },
    {
      "cell_type": "code",
      "source": [
        "image_array=numpy.asfarray(all_values[1:]).reshape((28,28))\n",
        "matplotlib.pyplot.imshow(image_array, cmap='Greys', interpolation='None')"
      ],
      "metadata": {
        "colab": {
          "base_uri": "https://localhost:8080/",
          "height": 193
        },
        "id": "0XKlH7vhb44Q",
        "outputId": "881c1ece-4546-47f1-a060-f45ba49e3d0e"
      },
      "execution_count": 106,
      "outputs": [
        {
          "output_type": "error",
          "ename": "NameError",
          "evalue": "ignored",
          "traceback": [
            "\u001b[0;31m---------------------------------------------------------------------------\u001b[0m",
            "\u001b[0;31mNameError\u001b[0m                                 Traceback (most recent call last)",
            "\u001b[0;32m<ipython-input-106-405ad8ae7465>\u001b[0m in \u001b[0;36m<module>\u001b[0;34m()\u001b[0m\n\u001b[0;32m----> 1\u001b[0;31m \u001b[0mimage_array\u001b[0m\u001b[0;34m=\u001b[0m\u001b[0mnumpy\u001b[0m\u001b[0;34m.\u001b[0m\u001b[0masfarray\u001b[0m\u001b[0;34m(\u001b[0m\u001b[0mall_values\u001b[0m\u001b[0;34m[\u001b[0m\u001b[0;36m1\u001b[0m\u001b[0;34m:\u001b[0m\u001b[0;34m]\u001b[0m\u001b[0;34m)\u001b[0m\u001b[0;34m.\u001b[0m\u001b[0mreshape\u001b[0m\u001b[0;34m(\u001b[0m\u001b[0;34m(\u001b[0m\u001b[0;36m28\u001b[0m\u001b[0;34m,\u001b[0m\u001b[0;36m28\u001b[0m\u001b[0;34m)\u001b[0m\u001b[0;34m)\u001b[0m\u001b[0;34m\u001b[0m\u001b[0;34m\u001b[0m\u001b[0m\n\u001b[0m\u001b[1;32m      2\u001b[0m \u001b[0mmatplotlib\u001b[0m\u001b[0;34m.\u001b[0m\u001b[0mpyplot\u001b[0m\u001b[0;34m.\u001b[0m\u001b[0mimshow\u001b[0m\u001b[0;34m(\u001b[0m\u001b[0mimage_array\u001b[0m\u001b[0;34m,\u001b[0m \u001b[0mcmap\u001b[0m\u001b[0;34m=\u001b[0m\u001b[0;34m'Greys'\u001b[0m\u001b[0;34m,\u001b[0m \u001b[0minterpolation\u001b[0m\u001b[0;34m=\u001b[0m\u001b[0;34m'None'\u001b[0m\u001b[0;34m)\u001b[0m\u001b[0;34m\u001b[0m\u001b[0;34m\u001b[0m\u001b[0m\n",
            "\u001b[0;31mNameError\u001b[0m: name 'all_values' is not defined"
          ]
        }
      ]
    },
    {
      "cell_type": "code",
      "source": [
        "n.query(numpy.asfarray(all_values[1:])/255.0*0.99)+0.01"
      ],
      "metadata": {
        "colab": {
          "base_uri": "https://localhost:8080/",
          "height": 174
        },
        "id": "osMcRgaJb6AD",
        "outputId": "75c770ef-72a4-4013-91a5-efc1c5bd8399"
      },
      "execution_count": 107,
      "outputs": [
        {
          "output_type": "error",
          "ename": "NameError",
          "evalue": "ignored",
          "traceback": [
            "\u001b[0;31m---------------------------------------------------------------------------\u001b[0m",
            "\u001b[0;31mNameError\u001b[0m                                 Traceback (most recent call last)",
            "\u001b[0;32m<ipython-input-107-3c915be6ac8d>\u001b[0m in \u001b[0;36m<module>\u001b[0;34m()\u001b[0m\n\u001b[0;32m----> 1\u001b[0;31m \u001b[0mn\u001b[0m\u001b[0;34m.\u001b[0m\u001b[0mquery\u001b[0m\u001b[0;34m(\u001b[0m\u001b[0mnumpy\u001b[0m\u001b[0;34m.\u001b[0m\u001b[0masfarray\u001b[0m\u001b[0;34m(\u001b[0m\u001b[0mall_values\u001b[0m\u001b[0;34m[\u001b[0m\u001b[0;36m1\u001b[0m\u001b[0;34m:\u001b[0m\u001b[0;34m]\u001b[0m\u001b[0;34m)\u001b[0m\u001b[0;34m/\u001b[0m\u001b[0;36m255.0\u001b[0m\u001b[0;34m*\u001b[0m\u001b[0;36m0.99\u001b[0m\u001b[0;34m)\u001b[0m\u001b[0;34m+\u001b[0m\u001b[0;36m0.01\u001b[0m\u001b[0;34m\u001b[0m\u001b[0;34m\u001b[0m\u001b[0m\n\u001b[0m",
            "\u001b[0;31mNameError\u001b[0m: name 'all_values' is not defined"
          ]
        }
      ]
    },
    {
      "cell_type": "code",
      "source": [
        "#신경망 테스트\n",
        "#신경망의 성능의 지표가 되는 성적표를 아무 값도 가지지 않도록 초기화\n",
        "scorecard=[]\n",
        "for record in test_data_list:\n",
        "    #레코드를 쉼표에 의해 분리\n",
        "    all_values=record.split(',')\n",
        "    #정답은 첫 번째 값\n",
        "    correct_label=int(all_values[0])\n",
        "    print(correct_label, \"정답\")\n",
        "    #입력 값의 범위와 값 조정\n",
        "    inputs=(numpy.asfarray(all_values[1:])/255.0*0.99)+0.01\n",
        "    #신경망에 질의\n",
        "    outputs=n.query(inputs)\n",
        "    #가장 높은 값의 인덱스는 레이블의 인덱스와 일치\n",
        "    label=numpy.argmax(outputs)\n",
        "    print(label, \"네트워크의 대답\")\n",
        "    #정답 또는 오답을 리스트에 추가\n",
        "    if(label==correct_label):\n",
        "        #정답인 경우 성적표에 1을 더함\n",
        "        scorecard.append(1)\n",
        "    else:\n",
        "        #정답이 아닌 경우 0을 더함\n",
        "        scorecard.append(0)\n",
        "        pass\n",
        "    pass"
      ],
      "metadata": {
        "colab": {
          "base_uri": "https://localhost:8080/",
          "height": 248
        },
        "id": "sHEhIXGmb7Xm",
        "outputId": "914ff395-aef0-4f9e-8c6f-e615eb65b003"
      },
      "execution_count": 108,
      "outputs": [
        {
          "output_type": "error",
          "ename": "NameError",
          "evalue": "ignored",
          "traceback": [
            "\u001b[0;31m---------------------------------------------------------------------------\u001b[0m",
            "\u001b[0;31mNameError\u001b[0m                                 Traceback (most recent call last)",
            "\u001b[0;32m<ipython-input-108-e0307df47320>\u001b[0m in \u001b[0;36m<module>\u001b[0;34m()\u001b[0m\n\u001b[1;32m      2\u001b[0m \u001b[0;31m#신경망의 성능의 지표가 되는 성적표를 아무 값도 가지지 않도록 초기화\u001b[0m\u001b[0;34m\u001b[0m\u001b[0;34m\u001b[0m\u001b[0;34m\u001b[0m\u001b[0m\n\u001b[1;32m      3\u001b[0m \u001b[0mscorecard\u001b[0m\u001b[0;34m=\u001b[0m\u001b[0;34m[\u001b[0m\u001b[0;34m]\u001b[0m\u001b[0;34m\u001b[0m\u001b[0;34m\u001b[0m\u001b[0m\n\u001b[0;32m----> 4\u001b[0;31m \u001b[0;32mfor\u001b[0m \u001b[0mrecord\u001b[0m \u001b[0;32min\u001b[0m \u001b[0mtest_data_list\u001b[0m\u001b[0;34m:\u001b[0m\u001b[0;34m\u001b[0m\u001b[0;34m\u001b[0m\u001b[0m\n\u001b[0m\u001b[1;32m      5\u001b[0m     \u001b[0;31m#레코드를 쉼표에 의해 분리\u001b[0m\u001b[0;34m\u001b[0m\u001b[0;34m\u001b[0m\u001b[0;34m\u001b[0m\u001b[0m\n\u001b[1;32m      6\u001b[0m     \u001b[0mall_values\u001b[0m\u001b[0;34m=\u001b[0m\u001b[0mrecord\u001b[0m\u001b[0;34m.\u001b[0m\u001b[0msplit\u001b[0m\u001b[0;34m(\u001b[0m\u001b[0;34m','\u001b[0m\u001b[0;34m)\u001b[0m\u001b[0;34m\u001b[0m\u001b[0;34m\u001b[0m\u001b[0m\n",
            "\u001b[0;31mNameError\u001b[0m: name 'test_data_list' is not defined"
          ]
        }
      ]
    },
    {
      "cell_type": "code",
      "source": [
        "print(scorecard)"
      ],
      "metadata": {
        "colab": {
          "base_uri": "https://localhost:8080/"
        },
        "id": "4SFpGrV_b-5I",
        "outputId": "75d45a0c-4e1e-4708-ec54-48abf2a3c363"
      },
      "execution_count": 109,
      "outputs": [
        {
          "output_type": "stream",
          "name": "stdout",
          "text": [
            "[]\n"
          ]
        }
      ]
    },
    {
      "cell_type": "code",
      "source": [
        "scorecard_array=numpy.asarray(scorecard)\n",
        "print(\"성능은 = \", scorecard_array.sum()/scorecard_array.size)"
      ],
      "metadata": {
        "colab": {
          "base_uri": "https://localhost:8080/"
        },
        "id": "fD0xZYz1cA5e",
        "outputId": "33ce3e3e-492a-4a2f-cb48-48f600a08b16"
      },
      "execution_count": 110,
      "outputs": [
        {
          "output_type": "stream",
          "name": "stdout",
          "text": [
            "성능은 =  nan\n"
          ]
        },
        {
          "output_type": "stream",
          "name": "stderr",
          "text": [
            "/usr/local/lib/python3.7/dist-packages/ipykernel_launcher.py:2: RuntimeWarning: invalid value encountered in double_scalars\n",
            "  \n"
          ]
        }
      ]
    },
    {
      "cell_type": "code",
      "source": [
        "##학습률 변경해보기\n",
        "#0.6으로 바꾸면? #0.9로 바꾸면?\n",
        "#0.1에서 0.3의 학습률을 가질 때 좋은 성능을 보입니다."
      ],
      "metadata": {
        "id": "j7SKtW7ccCJp"
      },
      "execution_count": 111,
      "outputs": []
    },
    {
      "cell_type": "code",
      "source": [
        "#여러번 수행을 통한 신경망 개선하기\n",
        "#주기(epoch)란 학습 데이터가 학습을 위해 사용되는 횟수\n",
        "epochs=2\n",
        "\n",
        "for e in range(epochs):\n",
        "    #학습 데이ㅣ터 모음 내의 모든 레코드 탐색\n",
        "    for record in traing_data_list:\n",
        "        #레코드를 쉽표에 의해 분리\n",
        "        all_values=record.split(',')\n",
        "        #입력 값의 범위와 값 조정\n",
        "        inputs=(numpy.asfarray(all_values[1:])/255.0*0.99)+0.01\n",
        "        #결과 값 생성(실제값인 0.99외에는 모두 0.01)\n",
        "        targets=numpy.zeros(output_nodes)+0.01\n",
        "        #all_value[0]으 레코드의 결과 값\n",
        "        targets[int(all_values[0])]=0.99\n",
        "        n.train(inputs,targets)\n",
        "        pass\n",
        "    pass\n",
        "    "
      ],
      "metadata": {
        "colab": {
          "base_uri": "https://localhost:8080/",
          "height": 248
        },
        "id": "F58p0f_0cGcB",
        "outputId": "9670d88c-6569-43ef-e1ed-ea4d4b1847ab"
      },
      "execution_count": 112,
      "outputs": [
        {
          "output_type": "error",
          "ename": "NameError",
          "evalue": "ignored",
          "traceback": [
            "\u001b[0;31m---------------------------------------------------------------------------\u001b[0m",
            "\u001b[0;31mNameError\u001b[0m                                 Traceback (most recent call last)",
            "\u001b[0;32m<ipython-input-112-7d618a6bf6e1>\u001b[0m in \u001b[0;36m<module>\u001b[0;34m()\u001b[0m\n\u001b[1;32m      5\u001b[0m \u001b[0;32mfor\u001b[0m \u001b[0me\u001b[0m \u001b[0;32min\u001b[0m \u001b[0mrange\u001b[0m\u001b[0;34m(\u001b[0m\u001b[0mepochs\u001b[0m\u001b[0;34m)\u001b[0m\u001b[0;34m:\u001b[0m\u001b[0;34m\u001b[0m\u001b[0;34m\u001b[0m\u001b[0m\n\u001b[1;32m      6\u001b[0m     \u001b[0;31m#학습 데이ㅣ터 모음 내의 모든 레코드 탐색\u001b[0m\u001b[0;34m\u001b[0m\u001b[0;34m\u001b[0m\u001b[0;34m\u001b[0m\u001b[0m\n\u001b[0;32m----> 7\u001b[0;31m     \u001b[0;32mfor\u001b[0m \u001b[0mrecord\u001b[0m \u001b[0;32min\u001b[0m \u001b[0mtraing_data_list\u001b[0m\u001b[0;34m:\u001b[0m\u001b[0;34m\u001b[0m\u001b[0;34m\u001b[0m\u001b[0m\n\u001b[0m\u001b[1;32m      8\u001b[0m         \u001b[0;31m#레코드를 쉽표에 의해 분리\u001b[0m\u001b[0;34m\u001b[0m\u001b[0;34m\u001b[0m\u001b[0;34m\u001b[0m\u001b[0m\n\u001b[1;32m      9\u001b[0m         \u001b[0mall_values\u001b[0m\u001b[0;34m=\u001b[0m\u001b[0mrecord\u001b[0m\u001b[0;34m.\u001b[0m\u001b[0msplit\u001b[0m\u001b[0;34m(\u001b[0m\u001b[0;34m','\u001b[0m\u001b[0;34m)\u001b[0m\u001b[0;34m\u001b[0m\u001b[0;34m\u001b[0m\u001b[0m\n",
            "\u001b[0;31mNameError\u001b[0m: name 'traing_data_list' is not defined"
          ]
        }
      ]
    },
    {
      "cell_type": "code",
      "source": [
        "#신경망 테스트\n",
        "#신경망의 성능의 지표가 되는 성적표를 아무 값도 가지지 않도록 초기화\n",
        "scorecard=[]\n",
        "for record in test_data_list:\n",
        "    #레코드를 쉼표에 의해 분리\n",
        "    all_values=record.split(',')\n",
        "    #정답은 첫 번째 값\n",
        "    correct_label=int(all_values[0])\n",
        "    print(correct_label, \"정답\")\n",
        "    #입력 값의 범위와 값 조정\n",
        "    inputs=(numpy.asfarray(all_values[1:])/255.0*0.99)+0.01\n",
        "    #신경망에 질의\n",
        "    outputs=n.query(inputs)\n",
        "    #가장 높은 값의 인덱스는 레이블의 인덱스와 일치\n",
        "    label=numpy.argmax(outputs)\n",
        "    print(label, \"네트워크의 대답\")\n",
        "    #정답 또는 오답을 리스트에 추가\n",
        "    if(label==correct_label):\n",
        "        #정답인 경우 성적표에 1을 더함\n",
        "        scorecard.append(1)\n",
        "    else:\n",
        "        #정답이 아닌 경우 0을 더함\n",
        "        scorecard.append(0)\n",
        "        pass\n",
        "    pass"
      ],
      "metadata": {
        "colab": {
          "base_uri": "https://localhost:8080/",
          "height": 248
        },
        "id": "LZwTdJYkcIHN",
        "outputId": "6f3a2a01-e0d5-4c51-b8a8-6ebb9b92364b"
      },
      "execution_count": 113,
      "outputs": [
        {
          "output_type": "error",
          "ename": "NameError",
          "evalue": "ignored",
          "traceback": [
            "\u001b[0;31m---------------------------------------------------------------------------\u001b[0m",
            "\u001b[0;31mNameError\u001b[0m                                 Traceback (most recent call last)",
            "\u001b[0;32m<ipython-input-113-e0307df47320>\u001b[0m in \u001b[0;36m<module>\u001b[0;34m()\u001b[0m\n\u001b[1;32m      2\u001b[0m \u001b[0;31m#신경망의 성능의 지표가 되는 성적표를 아무 값도 가지지 않도록 초기화\u001b[0m\u001b[0;34m\u001b[0m\u001b[0;34m\u001b[0m\u001b[0;34m\u001b[0m\u001b[0m\n\u001b[1;32m      3\u001b[0m \u001b[0mscorecard\u001b[0m\u001b[0;34m=\u001b[0m\u001b[0;34m[\u001b[0m\u001b[0;34m]\u001b[0m\u001b[0;34m\u001b[0m\u001b[0;34m\u001b[0m\u001b[0m\n\u001b[0;32m----> 4\u001b[0;31m \u001b[0;32mfor\u001b[0m \u001b[0mrecord\u001b[0m \u001b[0;32min\u001b[0m \u001b[0mtest_data_list\u001b[0m\u001b[0;34m:\u001b[0m\u001b[0;34m\u001b[0m\u001b[0;34m\u001b[0m\u001b[0m\n\u001b[0m\u001b[1;32m      5\u001b[0m     \u001b[0;31m#레코드를 쉼표에 의해 분리\u001b[0m\u001b[0;34m\u001b[0m\u001b[0;34m\u001b[0m\u001b[0;34m\u001b[0m\u001b[0m\n\u001b[1;32m      6\u001b[0m     \u001b[0mall_values\u001b[0m\u001b[0;34m=\u001b[0m\u001b[0mrecord\u001b[0m\u001b[0;34m.\u001b[0m\u001b[0msplit\u001b[0m\u001b[0;34m(\u001b[0m\u001b[0;34m','\u001b[0m\u001b[0;34m)\u001b[0m\u001b[0;34m\u001b[0m\u001b[0;34m\u001b[0m\u001b[0m\n",
            "\u001b[0;31mNameError\u001b[0m: name 'test_data_list' is not defined"
          ]
        }
      ]
    },
    {
      "cell_type": "code",
      "source": [
        "scorecard_array=numpy.asarray(scorecard)\n",
        "print(\"성능은 = \", scorecard_array.sum()/scorecard_array.size)"
      ],
      "metadata": {
        "colab": {
          "base_uri": "https://localhost:8080/"
        },
        "id": "Y0r02d6fcLyp",
        "outputId": "89f389fe-8749-4a29-ad43-38b36c6fc4c1"
      },
      "execution_count": 114,
      "outputs": [
        {
          "output_type": "stream",
          "name": "stdout",
          "text": [
            "성능은 =  nan\n"
          ]
        },
        {
          "output_type": "stream",
          "name": "stderr",
          "text": [
            "/usr/local/lib/python3.7/dist-packages/ipykernel_launcher.py:2: RuntimeWarning: invalid value encountered in double_scalars\n",
            "  \n"
          ]
        }
      ]
    },
    {
      "cell_type": "code",
      "source": [
        "# 내일 12시 반에 줌을 살짝 열어서 여러분들 질문 있으시면 들어와서 질문주셔도 돼요."
      ],
      "metadata": {
        "id": "zfRdHkWFcNo0"
      },
      "execution_count": 114,
      "outputs": []
    }
  ]
}