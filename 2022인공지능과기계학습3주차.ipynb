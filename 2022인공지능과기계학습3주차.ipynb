{
  "nbformat": 4,
  "nbformat_minor": 0,
  "metadata": {
    "colab": {
      "name": "2022인공지능과기계학습3주차.ipynb",
      "provenance": [],
      "authorship_tag": "ABX9TyMfncMIxSqC6/vizSEUTTB8",
      "include_colab_link": true
    },
    "kernelspec": {
      "name": "python3",
      "display_name": "Python 3"
    },
    "language_info": {
      "name": "python"
    }
  },
  "cells": [
    {
      "cell_type": "markdown",
      "metadata": {
        "id": "view-in-github",
        "colab_type": "text"
      },
      "source": [
        "<a href=\"https://colab.research.google.com/github/goldenkiwi-hyeuk/2022-summer_AI-machine_learning/blob/main/2022%EC%9D%B8%EA%B3%B5%EC%A7%80%EB%8A%A5%EA%B3%BC%EA%B8%B0%EA%B3%84%ED%95%99%EC%8A%B53%EC%A3%BC%EC%B0%A8.ipynb\" target=\"_parent\"><img src=\"https://colab.research.google.com/assets/colab-badge.svg\" alt=\"Open In Colab\"/></a>"
      ]
    },
    {
      "cell_type": "code",
      "execution_count": 1,
      "metadata": {
        "id": "lqr8OZuH956R"
      },
      "outputs": [],
      "source": [
        "# 파이썬을 아주 모르시는 분들 기준으로 시작해서 신경망을 만들게요"
      ]
    },
    {
      "cell_type": "code",
      "source": [
        "# 파이썬에서 # 이표시는 주석이에요 주석은 메모같은거에요 프로그램 실행이랑은 상관이 없답니다."
      ],
      "metadata": {
        "id": "booSBZsu-F1n"
      },
      "execution_count": 2,
      "outputs": []
    },
    {
      "cell_type": "code",
      "source": [
        "# print()는 괄호안에 있는 내용을 모니터에 출력해주는 거에요"
      ],
      "metadata": {
        "id": "eoryaaOl-NKF"
      },
      "execution_count": 3,
      "outputs": []
    },
    {
      "cell_type": "code",
      "source": [
        "print('hello world')"
      ],
      "metadata": {
        "colab": {
          "base_uri": "https://localhost:8080/"
        },
        "id": "cfedeLm9-S_j",
        "outputId": "42a947d5-f4c0-4f33-d0c0-f304ee556ae4"
      },
      "execution_count": 4,
      "outputs": [
        {
          "output_type": "stream",
          "name": "stdout",
          "text": [
            "hello world\n"
          ]
        }
      ]
    },
    {
      "cell_type": "code",
      "source": [
        "print(5)"
      ],
      "metadata": {
        "colab": {
          "base_uri": "https://localhost:8080/"
        },
        "id": "NHRWU2w4-Vle",
        "outputId": "86437e1b-d1c0-4777-f383-0f5f7b6f586f"
      },
      "execution_count": 5,
      "outputs": [
        {
          "output_type": "stream",
          "name": "stdout",
          "text": [
            "5\n"
          ]
        }
      ]
    },
    {
      "cell_type": "code",
      "source": [
        "## a = 10이라는 뜻은 a에다가 10을 대입하라는 뜻입니다. a는 변수라고 불러요 = 표시는 대입연산자\n",
        "a = 10\n",
        "print(a)"
      ],
      "metadata": {
        "colab": {
          "base_uri": "https://localhost:8080/"
        },
        "id": "DRf0xAIx-Wm7",
        "outputId": "563f7433-592c-4520-859d-cabe739d79e5"
      },
      "execution_count": 6,
      "outputs": [
        {
          "output_type": "stream",
          "name": "stdout",
          "text": [
            "10\n"
          ]
        }
      ]
    },
    {
      "cell_type": "code",
      "source": [
        "name = 'hanyang'\n",
        "print(name)"
      ],
      "metadata": {
        "colab": {
          "base_uri": "https://localhost:8080/"
        },
        "id": "7_mf-6tU-kie",
        "outputId": "1d07eafe-2dbd-456b-80cf-67b962d8f60b"
      },
      "execution_count": 7,
      "outputs": [
        {
          "output_type": "stream",
          "name": "stdout",
          "text": [
            "hanyang\n"
          ]
        }
      ]
    },
    {
      "cell_type": "code",
      "source": [
        "loc = 'seongdong-gu'\n",
        "print(loc)"
      ],
      "metadata": {
        "colab": {
          "base_uri": "https://localhost:8080/"
        },
        "id": "Se3tjyQ3-pAQ",
        "outputId": "131c7939-96ef-4c56-edbe-e34c86246aab"
      },
      "execution_count": 8,
      "outputs": [
        {
          "output_type": "stream",
          "name": "stdout",
          "text": [
            "seongdong-gu\n"
          ]
        }
      ]
    },
    {
      "cell_type": "code",
      "source": [
        "print('이름은 '+name)\n",
        "print('위치는 '+loc)"
      ],
      "metadata": {
        "colab": {
          "base_uri": "https://localhost:8080/"
        },
        "id": "rbfIEUW6-uzG",
        "outputId": "d8895724-be42-4713-df99-8adc0b47038f"
      },
      "execution_count": 9,
      "outputs": [
        {
          "output_type": "stream",
          "name": "stdout",
          "text": [
            "이름은 hanyang\n",
            "위치는 seongdong-gu\n"
          ]
        }
      ]
    },
    {
      "cell_type": "code",
      "source": [
        "print(name+loc)"
      ],
      "metadata": {
        "colab": {
          "base_uri": "https://localhost:8080/"
        },
        "id": "AJ0VfZ2D-1fC",
        "outputId": "1ead909f-8516-489f-c60d-008cfc850754"
      },
      "execution_count": 10,
      "outputs": [
        {
          "output_type": "stream",
          "name": "stdout",
          "text": [
            "hanyangseongdong-gu\n"
          ]
        }
      ]
    },
    {
      "cell_type": "code",
      "source": [
        "# 어제 수업 영상을 녹화했는데 잘못되어서 아침에 다시 하게 되었어요. 늦어서 죄송합니다.\n",
        "# 앞으로는 가급적 이른 아침에 보실수도 있게 업로드 할게요.\n",
        "# 오늘도 수업 들어주셔서 감사드립니다. 월요일에 봬요. 안녕히계세요."
      ],
      "metadata": {
        "id": "CAVs_8-d-4Do"
      },
      "execution_count": 11,
      "outputs": []
    },
    {
      "cell_type": "code",
      "source": [
        "# 지키지 못한 약속 죄송합니다."
      ],
      "metadata": {
        "id": "D-uBmo8N_KEn"
      },
      "execution_count": 12,
      "outputs": []
    },
    {
      "cell_type": "code",
      "source": [
        "# 오늘은 입력 받는것과 데이터의 형태 종류를 알아 보고 끝낼게요."
      ],
      "metadata": {
        "id": "1ResIKMk_L0u"
      },
      "execution_count": 13,
      "outputs": []
    },
    {
      "cell_type": "code",
      "source": [
        "# 파이썬에서 입력을 받느느 방법중 input() 함수가 있어요 이 함수는 입력 받은 값을\n",
        "# 자신이 써  있는 자리에 놓아줍니다."
      ],
      "metadata": {
        "id": "aIS57bG1_Qcf"
      },
      "execution_count": 14,
      "outputs": []
    },
    {
      "cell_type": "code",
      "source": [
        "# 변수"
      ],
      "metadata": {
        "id": "eAL1wemc_Z1T"
      },
      "execution_count": 15,
      "outputs": []
    },
    {
      "cell_type": "code",
      "source": [
        "a= 10"
      ],
      "metadata": {
        "id": "oAd7cLF1_akv"
      },
      "execution_count": 16,
      "outputs": []
    },
    {
      "cell_type": "code",
      "source": [
        "print(a)"
      ],
      "metadata": {
        "colab": {
          "base_uri": "https://localhost:8080/"
        },
        "id": "Vi8PGpkd_brb",
        "outputId": "28eb885f-7d5b-48f4-acfe-c3ee40d9b4a8"
      },
      "execution_count": 17,
      "outputs": [
        {
          "output_type": "stream",
          "name": "stdout",
          "text": [
            "10\n"
          ]
        }
      ]
    },
    {
      "cell_type": "code",
      "source": [
        "\n",
        "b= 20"
      ],
      "metadata": {
        "id": "_JAbKq6h_d2I"
      },
      "execution_count": 18,
      "outputs": []
    },
    {
      "cell_type": "code",
      "source": [
        "print(b)"
      ],
      "metadata": {
        "colab": {
          "base_uri": "https://localhost:8080/"
        },
        "id": "XbVVtOA9_ev9",
        "outputId": "ceedc2b1-1d48-4b55-e910-0959adfe62ff"
      },
      "execution_count": 19,
      "outputs": [
        {
          "output_type": "stream",
          "name": "stdout",
          "text": [
            "20\n"
          ]
        }
      ]
    },
    {
      "cell_type": "code",
      "source": [
        "c = a + b\n",
        "print(c)"
      ],
      "metadata": {
        "colab": {
          "base_uri": "https://localhost:8080/"
        },
        "id": "ItJ9yCA3_fp8",
        "outputId": "7745e51d-1b9f-42ec-a5ca-009ee5b8f0e4"
      },
      "execution_count": 20,
      "outputs": [
        {
          "output_type": "stream",
          "name": "stdout",
          "text": [
            "30\n"
          ]
        }
      ]
    },
    {
      "cell_type": "code",
      "source": [
        "print(\"이름을 입력하세요\")\n",
        "name =input()\n",
        "print(\"너의 이름은 \"+ name + \"님 이구만\")"
      ],
      "metadata": {
        "colab": {
          "base_uri": "https://localhost:8080/"
        },
        "id": "RJk4BMar_iQz",
        "outputId": "647961a7-596d-4e9b-d27a-06f05abdd1a4"
      },
      "execution_count": 22,
      "outputs": [
        {
          "output_type": "stream",
          "name": "stdout",
          "text": [
            "이름을 입력하세요\n",
            "성혁\n",
            "너의 이름은 성혁님 이구만\n"
          ]
        }
      ]
    },
    {
      "cell_type": "code",
      "source": [
        "# 덧셈 : 두 개의 숫자를 입력 받아서 결과를 출력해보기"
      ],
      "metadata": {
        "id": "lNwaZvYn_xOz"
      },
      "execution_count": 24,
      "outputs": []
    },
    {
      "cell_type": "code",
      "source": [
        "print(\"첫번째 숫자를 입력해주세요\")\n",
        "num1 = input() #숫자를 문자로 받은 상태\n",
        "num1 = int(num1) # int()는 정수 껍데기를 씌우는 거라고 생각해주세요\n",
        "print(\"두번째 숫자를 입력해주세요\")\n",
        "num2 = input()\n",
        "num2 = int(num2)\n",
        "hap = num1 + num2\n",
        "print(hap)"
      ],
      "metadata": {
        "colab": {
          "base_uri": "https://localhost:8080/"
        },
        "id": "-NX0rStL_1Mg",
        "outputId": "0521454f-dac0-41a0-cb48-feae60523999"
      },
      "execution_count": 30,
      "outputs": [
        {
          "output_type": "stream",
          "name": "stdout",
          "text": [
            "첫번째 숫자를 입력해주세요\n",
            "19\n",
            "두번째 숫자를 입력해주세요\n",
            "39\n",
            "58\n"
          ]
        }
      ]
    },
    {
      "cell_type": "code",
      "source": [
        "# input()함수는 입력을 받으면 무조건 문자로 받아요\n",
        "# 자료형(type) : 문자열, 정수(숫자), 실수(소수점있는 숫자) 다 달라요"
      ],
      "metadata": {
        "id": "UJYF7S2YAGPL"
      },
      "execution_count": null,
      "outputs": []
    },
    {
      "cell_type": "code",
      "source": [
        "# 그래서 우리는 input()함수로 받은 내용을 우리가 원하는 형태로 바꿔줍니다."
      ],
      "metadata": {
        "id": "ZG_SPnvU_91q"
      },
      "execution_count": 29,
      "outputs": []
    },
    {
      "cell_type": "code",
      "source": [
        "print(\"첫번째 숫자를 입력해주세요\")\n",
        "num1 = input() #숫자를 문자로 받은 상태\n",
        "num1 = int(num1) # int()는 정수 껍데기를 씌우는 거라고 생각해주세요\n",
        "print(\"두번째 숫자를 입력해주세요\")\n",
        "num2 = input()\n",
        "num2 = int(num2)\n",
        "hap = num1 + num2\n",
        "print(hap)\n",
        "print(\"두 수의 합은 \" + str(hap) + '이구만') # 여기에서 우리는 문자열 껍데기가 필요해요 str()"
      ],
      "metadata": {
        "colab": {
          "base_uri": "https://localhost:8080/"
        },
        "id": "x4V3rJENAfKq",
        "outputId": "babb9752-878d-4f67-e689-4fbe4bbda797"
      },
      "execution_count": 32,
      "outputs": [
        {
          "output_type": "stream",
          "name": "stdout",
          "text": [
            "첫번째 숫자를 입력해주세요\n",
            "12\n",
            "두번째 숫자를 입력해주세요\n",
            "13\n",
            "25\n",
            "두 수의 합은 25이구만\n"
          ]
        }
      ]
    }
  ]
}