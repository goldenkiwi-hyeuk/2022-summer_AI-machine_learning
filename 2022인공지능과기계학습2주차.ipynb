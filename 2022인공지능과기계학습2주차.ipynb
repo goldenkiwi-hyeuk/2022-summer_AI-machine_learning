{
  "nbformat": 4,
  "nbformat_minor": 0,
  "metadata": {
    "colab": {
      "name": "2022인공지능과기계학습2주차.ipynb",
      "provenance": [],
      "authorship_tag": "ABX9TyM4baILur63aHMsfGIeHOLq",
      "include_colab_link": true
    },
    "kernelspec": {
      "name": "python3",
      "display_name": "Python 3"
    },
    "language_info": {
      "name": "python"
    }
  },
  "cells": [
    {
      "cell_type": "markdown",
      "metadata": {
        "id": "view-in-github",
        "colab_type": "text"
      },
      "source": [
        "<a href=\"https://colab.research.google.com/github/goldenkiwi-hyeuk/2022-summer_AI-machine_learning/blob/main/2022%EC%9D%B8%EA%B3%B5%EC%A7%80%EB%8A%A5%EA%B3%BC%EA%B8%B0%EA%B3%84%ED%95%99%EC%8A%B52%EC%A3%BC%EC%B0%A8.ipynb\" target=\"_parent\"><img src=\"https://colab.research.google.com/assets/colab-badge.svg\" alt=\"Open In Colab\"/></a>"
      ]
    },
    {
      "cell_type": "markdown",
      "source": [
        "지금 시간은 실습을 해보는 시간입니다. 시험에는 안나와요.\n",
        "왜냐하면 우리는 이론 수업이니까\n",
        "원래는 이건 보조자료라고 명시했지만 교육혁신팀에서 자꾸 뭐라고 해요."
      ],
      "metadata": {
        "id": "vDjjj-FN8OLd"
      }
    },
    {
      "cell_type": "code",
      "execution_count": 2,
      "metadata": {
        "colab": {
          "base_uri": "https://localhost:8080/"
        },
        "id": "LfMs59sx7KqC",
        "outputId": "5741e7ea-1ac3-4d6c-b487-a410b71ffbd7"
      },
      "outputs": [
        {
          "output_type": "stream",
          "name": "stdout",
          "text": [
            "Hello world\n"
          ]
        }
      ],
      "source": [
        "print('Hello world')"
      ]
    },
    {
      "cell_type": "code",
      "source": [
        "print('만나서 반갑습니다. 저는 성기혁입니다.')"
      ],
      "metadata": {
        "colab": {
          "base_uri": "https://localhost:8080/"
        },
        "id": "ApfMFrKc8sbo",
        "outputId": "f0a30ea6-783f-4511-8a4a-ce827fd616d4"
      },
      "execution_count": 3,
      "outputs": [
        {
          "output_type": "stream",
          "name": "stdout",
          "text": [
            "만나서 반갑습니다. 저는 성기혁입니다.\n"
          ]
        }
      ]
    },
    {
      "cell_type": "code",
      "source": [
        "# 파이썬 기초입니다. 안볼분들은 패쓰"
      ],
      "metadata": {
        "id": "9pxIO9UZ8yte"
      },
      "execution_count": 4,
      "outputs": []
    },
    {
      "cell_type": "code",
      "source": [
        "# 주석이라고 합니다. 이 주석이 붙으면 프로그램 실행과는 아무 상관이 없어요\n",
        "# print('hanyang')\n",
        "print('한양')"
      ],
      "metadata": {
        "colab": {
          "base_uri": "https://localhost:8080/"
        },
        "id": "2msRzsgR9s0q",
        "outputId": "52cc6f28-78f0-45ff-b813-5fac07aa8682"
      },
      "execution_count": 5,
      "outputs": [
        {
          "output_type": "stream",
          "name": "stdout",
          "text": [
            "한양\n"
          ]
        }
      ]
    },
    {
      "cell_type": "code",
      "source": [
        "# print()는 괄호 안의 내용을 모니터에 출력해줘요"
      ],
      "metadata": {
        "id": "qWWSh6pP91AP"
      },
      "execution_count": 6,
      "outputs": []
    },
    {
      "cell_type": "code",
      "source": [
        "print('신경망 만들기 시작')"
      ],
      "metadata": {
        "colab": {
          "base_uri": "https://localhost:8080/"
        },
        "id": "0KGOiviG94nt",
        "outputId": "177dde36-9794-40b8-d005-7517f582a815"
      },
      "execution_count": 7,
      "outputs": [
        {
          "output_type": "stream",
          "name": "stdout",
          "text": [
            "신경망 만들기 시작\n"
          ]
        }
      ]
    },
    {
      "cell_type": "code",
      "source": [
        "# 출력을 배웠으니 입력을 배워볼까요"
      ],
      "metadata": {
        "id": "gPC1fC_p97Ep"
      },
      "execution_count": 8,
      "outputs": []
    },
    {
      "cell_type": "code",
      "source": [
        "# input() 은 키보드로부터 입력을 받아서 그 자리에 놓습니다."
      ],
      "metadata": {
        "id": "ie9DBTz9-HK0"
      },
      "execution_count": 9,
      "outputs": []
    },
    {
      "cell_type": "code",
      "source": [
        "# 죄송합니다. 먼저 데이터를 담는 변수를 사용해볼게요"
      ],
      "metadata": {
        "id": "uPzCTL_t-Mpb"
      },
      "execution_count": 10,
      "outputs": []
    },
    {
      "cell_type": "code",
      "source": [
        "a = 10"
      ],
      "metadata": {
        "id": "5ap2WTND-TST"
      },
      "execution_count": 11,
      "outputs": []
    },
    {
      "cell_type": "code",
      "source": [
        "# = 표시는 오른쪽의 값을 왼쪽에 대입하는 거에요."
      ],
      "metadata": {
        "id": "cv34CTGY-hLu"
      },
      "execution_count": 12,
      "outputs": []
    },
    {
      "cell_type": "code",
      "source": [
        "a = 10"
      ],
      "metadata": {
        "id": "ULPiSJV_-ktq"
      },
      "execution_count": 13,
      "outputs": []
    },
    {
      "cell_type": "code",
      "source": [
        "print(a)"
      ],
      "metadata": {
        "colab": {
          "base_uri": "https://localhost:8080/"
        },
        "id": "QIu1ewN1-lUf",
        "outputId": "6e9b8270-f021-4090-a9fc-712c1b8c8591"
      },
      "execution_count": 15,
      "outputs": [
        {
          "output_type": "stream",
          "name": "stdout",
          "text": [
            "10\n"
          ]
        }
      ]
    },
    {
      "cell_type": "code",
      "source": [
        "b =  20"
      ],
      "metadata": {
        "id": "1B6K16sD-saE"
      },
      "execution_count": 16,
      "outputs": []
    },
    {
      "cell_type": "code",
      "source": [
        "c = a + b"
      ],
      "metadata": {
        "id": "P2vTVMio-tVx"
      },
      "execution_count": 17,
      "outputs": []
    },
    {
      "cell_type": "code",
      "source": [
        "print(c)"
      ],
      "metadata": {
        "colab": {
          "base_uri": "https://localhost:8080/"
        },
        "id": "YzHMxdoj-vT6",
        "outputId": "b2b65777-9da5-456b-b6e1-1964aed3af57"
      },
      "execution_count": 19,
      "outputs": [
        {
          "output_type": "stream",
          "name": "stdout",
          "text": [
            "30\n"
          ]
        }
      ]
    },
    {
      "cell_type": "code",
      "source": [
        "name = 10\n",
        "print(name)"
      ],
      "metadata": {
        "colab": {
          "base_uri": "https://localhost:8080/"
        },
        "id": "p4I2R0Nq-2qG",
        "outputId": "359efbc7-1a99-4a04-f02e-dc547954a87a"
      },
      "execution_count": 20,
      "outputs": [
        {
          "output_type": "stream",
          "name": "stdout",
          "text": [
            "10\n"
          ]
        }
      ]
    },
    {
      "cell_type": "code",
      "source": [
        "print('이름을 입력하세요')\n",
        "name = input()\n",
        "print('나이를 입력하세요')\n",
        "age = input()\n",
        "print('당신의 이름은'+name+'이구만')\n",
        "print(age+'살 이구만. 늙었구만')"
      ],
      "metadata": {
        "colab": {
          "base_uri": "https://localhost:8080/"
        },
        "id": "h78a5DcG-8Ne",
        "outputId": "03b9c5ce-fcd2-4c7d-e8a8-857123b8be63"
      },
      "execution_count": 25,
      "outputs": [
        {
          "output_type": "stream",
          "name": "stdout",
          "text": [
            "이름을 입력하세요\n",
            "김한양\n",
            "나이를 입력하세요\n",
            "1939\n",
            "당신의 이름은김한양이구만\n",
            "1939살 이구만. 늙었구만\n"
          ]
        }
      ]
    },
    {
      "cell_type": "code",
      "source": [
        "# print()에서 여러개를 함께 출력할때는 +기호를 사용하시면 되요."
      ],
      "metadata": {
        "id": "fKtYH3eu_Ah-"
      },
      "execution_count": null,
      "outputs": []
    },
    {
      "cell_type": "code",
      "source": [
        "a = 10\n",
        "b = 20\n",
        "print(a)"
      ],
      "metadata": {
        "colab": {
          "base_uri": "https://localhost:8080/"
        },
        "id": "CsqmnjpmBoGV",
        "outputId": "b051fc7b-abf4-4d65-f1df-20db0afef40a"
      },
      "execution_count": 26,
      "outputs": [
        {
          "output_type": "stream",
          "name": "stdout",
          "text": [
            "10\n"
          ]
        }
      ]
    },
    {
      "cell_type": "code",
      "source": [
        "print(b)"
      ],
      "metadata": {
        "colab": {
          "base_uri": "https://localhost:8080/"
        },
        "id": "APWw05xjHLID",
        "outputId": "c017a5ba-06b9-458a-d741-1e2daaf17673"
      },
      "execution_count": 27,
      "outputs": [
        {
          "output_type": "stream",
          "name": "stdout",
          "text": [
            "20\n"
          ]
        }
      ]
    },
    {
      "cell_type": "code",
      "source": [
        "# 변수를 교환하려면 새로운 변수를 활용해야함\n",
        "c = a\n",
        "a = b\n",
        "b = c"
      ],
      "metadata": {
        "id": "wKBNMFJgHMZt"
      },
      "execution_count": 28,
      "outputs": []
    },
    {
      "cell_type": "code",
      "source": [
        "print(a)"
      ],
      "metadata": {
        "colab": {
          "base_uri": "https://localhost:8080/"
        },
        "id": "i3KNrgJIHUP5",
        "outputId": "998559a8-dba9-42de-ef1e-e2fbaf141778"
      },
      "execution_count": 29,
      "outputs": [
        {
          "output_type": "stream",
          "name": "stdout",
          "text": [
            "20\n"
          ]
        }
      ]
    },
    {
      "cell_type": "code",
      "source": [
        "print(b)"
      ],
      "metadata": {
        "colab": {
          "base_uri": "https://localhost:8080/"
        },
        "id": "gPKNP6hMHVX1",
        "outputId": "8f5e3b75-8bbb-41f6-9537-3af2ae7d4e34"
      },
      "execution_count": 31,
      "outputs": [
        {
          "output_type": "stream",
          "name": "stdout",
          "text": [
            "10\n"
          ]
        }
      ]
    },
    {
      "cell_type": "code",
      "source": [
        "# 2차시 수업 들어주셔서 감사합니다. 만약 혼나면 100분 수업 채울게요"
      ],
      "metadata": {
        "id": "0IGJz_YKHgfm"
      },
      "execution_count": null,
      "outputs": []
    }
  ]
}