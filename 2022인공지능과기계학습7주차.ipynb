{
  "nbformat": 4,
  "nbformat_minor": 0,
  "metadata": {
    "colab": {
      "name": "2022인공지능과기계학습3주차.ipynb",
      "provenance": [],
      "authorship_tag": "ABX9TyNXXTuaVAAtix9hPQdWJazD",
      "include_colab_link": true
    },
    "kernelspec": {
      "name": "python3",
      "display_name": "Python 3"
    },
    "language_info": {
      "name": "python"
    }
  },
  "cells": [
    {
      "cell_type": "markdown",
      "metadata": {
        "id": "view-in-github",
        "colab_type": "text"
      },
      "source": [
        "<a href=\"https://colab.research.google.com/github/goldenkiwi-hyeuk/2022-summer_AI-machine_learning/blob/main/2022%EC%9D%B8%EA%B3%B5%EC%A7%80%EB%8A%A5%EA%B3%BC%EA%B8%B0%EA%B3%84%ED%95%99%EC%8A%B57%EC%A3%BC%EC%B0%A8.ipynb\" target=\"_parent\"><img src=\"https://colab.research.google.com/assets/colab-badge.svg\" alt=\"Open In Colab\"/></a>"
      ]
    },
    {
      "cell_type": "code",
      "execution_count": null,
      "metadata": {
        "id": "lqr8OZuH956R"
      },
      "outputs": [],
      "source": [
        "# 파이썬을 아주 모르시는 분들 기준으로 시작해서 신경망을 만들게요"
      ]
    },
    {
      "cell_type": "code",
      "source": [
        "# 파이썬에서 # 이표시는 주석이에요 주석은 메모같은거에요 프로그램 실행이랑은 상관이 없답니다."
      ],
      "metadata": {
        "id": "booSBZsu-F1n"
      },
      "execution_count": null,
      "outputs": []
    },
    {
      "cell_type": "code",
      "source": [
        "# print()는 괄호안에 있는 내용을 모니터에 출력해주는 거에요"
      ],
      "metadata": {
        "id": "eoryaaOl-NKF"
      },
      "execution_count": null,
      "outputs": []
    },
    {
      "cell_type": "code",
      "source": [
        "print('hello world')"
      ],
      "metadata": {
        "colab": {
          "base_uri": "https://localhost:8080/"
        },
        "id": "cfedeLm9-S_j",
        "outputId": "42a947d5-f4c0-4f33-d0c0-f304ee556ae4"
      },
      "execution_count": null,
      "outputs": [
        {
          "output_type": "stream",
          "name": "stdout",
          "text": [
            "hello world\n"
          ]
        }
      ]
    },
    {
      "cell_type": "code",
      "source": [
        "print(5)"
      ],
      "metadata": {
        "colab": {
          "base_uri": "https://localhost:8080/"
        },
        "id": "NHRWU2w4-Vle",
        "outputId": "86437e1b-d1c0-4777-f383-0f5f7b6f586f"
      },
      "execution_count": null,
      "outputs": [
        {
          "output_type": "stream",
          "name": "stdout",
          "text": [
            "5\n"
          ]
        }
      ]
    },
    {
      "cell_type": "code",
      "source": [
        "## a = 10이라는 뜻은 a에다가 10을 대입하라는 뜻입니다. a는 변수라고 불러요 = 표시는 대입연산자\n",
        "a = 10\n",
        "print(a)"
      ],
      "metadata": {
        "colab": {
          "base_uri": "https://localhost:8080/"
        },
        "id": "DRf0xAIx-Wm7",
        "outputId": "563f7433-592c-4520-859d-cabe739d79e5"
      },
      "execution_count": null,
      "outputs": [
        {
          "output_type": "stream",
          "name": "stdout",
          "text": [
            "10\n"
          ]
        }
      ]
    },
    {
      "cell_type": "code",
      "source": [
        "name = 'hanyang'\n",
        "print(name)"
      ],
      "metadata": {
        "colab": {
          "base_uri": "https://localhost:8080/"
        },
        "id": "7_mf-6tU-kie",
        "outputId": "1d07eafe-2dbd-456b-80cf-67b962d8f60b"
      },
      "execution_count": null,
      "outputs": [
        {
          "output_type": "stream",
          "name": "stdout",
          "text": [
            "hanyang\n"
          ]
        }
      ]
    },
    {
      "cell_type": "code",
      "source": [
        "loc = 'seongdong-gu'\n",
        "print(loc)"
      ],
      "metadata": {
        "colab": {
          "base_uri": "https://localhost:8080/"
        },
        "id": "Se3tjyQ3-pAQ",
        "outputId": "131c7939-96ef-4c56-edbe-e34c86246aab"
      },
      "execution_count": null,
      "outputs": [
        {
          "output_type": "stream",
          "name": "stdout",
          "text": [
            "seongdong-gu\n"
          ]
        }
      ]
    },
    {
      "cell_type": "code",
      "source": [
        "print('이름은 '+name)\n",
        "print('위치는 '+loc)"
      ],
      "metadata": {
        "colab": {
          "base_uri": "https://localhost:8080/"
        },
        "id": "rbfIEUW6-uzG",
        "outputId": "d8895724-be42-4713-df99-8adc0b47038f"
      },
      "execution_count": null,
      "outputs": [
        {
          "output_type": "stream",
          "name": "stdout",
          "text": [
            "이름은 hanyang\n",
            "위치는 seongdong-gu\n"
          ]
        }
      ]
    },
    {
      "cell_type": "code",
      "source": [
        "print(name+loc)"
      ],
      "metadata": {
        "colab": {
          "base_uri": "https://localhost:8080/"
        },
        "id": "AJ0VfZ2D-1fC",
        "outputId": "1ead909f-8516-489f-c60d-008cfc850754"
      },
      "execution_count": null,
      "outputs": [
        {
          "output_type": "stream",
          "name": "stdout",
          "text": [
            "hanyangseongdong-gu\n"
          ]
        }
      ]
    },
    {
      "cell_type": "code",
      "source": [
        "# 어제 수업 영상을 녹화했는데 잘못되어서 아침에 다시 하게 되었어요. 늦어서 죄송합니다.\n",
        "# 앞으로는 가급적 이른 아침에 보실수도 있게 업로드 할게요.\n",
        "# 오늘도 수업 들어주셔서 감사드립니다. 월요일에 봬요. 안녕히계세요."
      ],
      "metadata": {
        "id": "CAVs_8-d-4Do"
      },
      "execution_count": null,
      "outputs": []
    },
    {
      "cell_type": "code",
      "source": [
        "# 지키지 못한 약속 죄송합니다."
      ],
      "metadata": {
        "id": "D-uBmo8N_KEn"
      },
      "execution_count": null,
      "outputs": []
    },
    {
      "cell_type": "code",
      "source": [
        "# 오늘은 입력 받는것과 데이터의 형태 종류를 알아 보고 끝낼게요."
      ],
      "metadata": {
        "id": "1ResIKMk_L0u"
      },
      "execution_count": null,
      "outputs": []
    },
    {
      "cell_type": "code",
      "source": [
        "# 파이썬에서 입력을 받느느 방법중 input() 함수가 있어요 이 함수는 입력 받은 값을\n",
        "# 자신이 써  있는 자리에 놓아줍니다."
      ],
      "metadata": {
        "id": "aIS57bG1_Qcf"
      },
      "execution_count": null,
      "outputs": []
    },
    {
      "cell_type": "code",
      "source": [
        "# 변수"
      ],
      "metadata": {
        "id": "eAL1wemc_Z1T"
      },
      "execution_count": null,
      "outputs": []
    },
    {
      "cell_type": "code",
      "source": [
        "a= 10"
      ],
      "metadata": {
        "id": "oAd7cLF1_akv"
      },
      "execution_count": null,
      "outputs": []
    },
    {
      "cell_type": "code",
      "source": [
        "print(a)"
      ],
      "metadata": {
        "colab": {
          "base_uri": "https://localhost:8080/"
        },
        "id": "Vi8PGpkd_brb",
        "outputId": "28eb885f-7d5b-48f4-acfe-c3ee40d9b4a8"
      },
      "execution_count": null,
      "outputs": [
        {
          "output_type": "stream",
          "name": "stdout",
          "text": [
            "10\n"
          ]
        }
      ]
    },
    {
      "cell_type": "code",
      "source": [
        "\n",
        "b= 20"
      ],
      "metadata": {
        "id": "_JAbKq6h_d2I"
      },
      "execution_count": null,
      "outputs": []
    },
    {
      "cell_type": "code",
      "source": [
        "print(b)"
      ],
      "metadata": {
        "colab": {
          "base_uri": "https://localhost:8080/"
        },
        "id": "XbVVtOA9_ev9",
        "outputId": "ceedc2b1-1d48-4b55-e910-0959adfe62ff"
      },
      "execution_count": null,
      "outputs": [
        {
          "output_type": "stream",
          "name": "stdout",
          "text": [
            "20\n"
          ]
        }
      ]
    },
    {
      "cell_type": "code",
      "source": [
        "c = a + b\n",
        "print(c)"
      ],
      "metadata": {
        "colab": {
          "base_uri": "https://localhost:8080/"
        },
        "id": "ItJ9yCA3_fp8",
        "outputId": "7745e51d-1b9f-42ec-a5ca-009ee5b8f0e4"
      },
      "execution_count": null,
      "outputs": [
        {
          "output_type": "stream",
          "name": "stdout",
          "text": [
            "30\n"
          ]
        }
      ]
    },
    {
      "cell_type": "code",
      "source": [
        "print(\"이름을 입력하세요\")\n",
        "name =input()\n",
        "print(\"너의 이름은 \"+ name + \"님 이구만\")"
      ],
      "metadata": {
        "colab": {
          "base_uri": "https://localhost:8080/"
        },
        "id": "RJk4BMar_iQz",
        "outputId": "647961a7-596d-4e9b-d27a-06f05abdd1a4"
      },
      "execution_count": null,
      "outputs": [
        {
          "output_type": "stream",
          "name": "stdout",
          "text": [
            "이름을 입력하세요\n",
            "성혁\n",
            "너의 이름은 성혁님 이구만\n"
          ]
        }
      ]
    },
    {
      "cell_type": "code",
      "source": [
        "# 덧셈 : 두 개의 숫자를 입력 받아서 결과를 출력해보기"
      ],
      "metadata": {
        "id": "lNwaZvYn_xOz"
      },
      "execution_count": null,
      "outputs": []
    },
    {
      "cell_type": "code",
      "source": [
        "print(\"첫번째 숫자를 입력해주세요\")\n",
        "num1 = input() #숫자를 문자로 받은 상태\n",
        "num1 = int(num1) # int()는 정수 껍데기를 씌우는 거라고 생각해주세요\n",
        "print(\"두번째 숫자를 입력해주세요\")\n",
        "num2 = input()\n",
        "num2 = int(num2)\n",
        "hap = num1 + num2\n",
        "print(hap)"
      ],
      "metadata": {
        "colab": {
          "base_uri": "https://localhost:8080/"
        },
        "id": "-NX0rStL_1Mg",
        "outputId": "0521454f-dac0-41a0-cb48-feae60523999"
      },
      "execution_count": null,
      "outputs": [
        {
          "output_type": "stream",
          "name": "stdout",
          "text": [
            "첫번째 숫자를 입력해주세요\n",
            "19\n",
            "두번째 숫자를 입력해주세요\n",
            "39\n",
            "58\n"
          ]
        }
      ]
    },
    {
      "cell_type": "code",
      "source": [
        "# input()함수는 입력을 받으면 무조건 문자로 받아요\n",
        "# 자료형(type) : 문자열, 정수(숫자), 실수(소수점있는 숫자) 다 달라요"
      ],
      "metadata": {
        "id": "UJYF7S2YAGPL"
      },
      "execution_count": null,
      "outputs": []
    },
    {
      "cell_type": "code",
      "source": [
        "# 그래서 우리는 input()함수로 받은 내용을 우리가 원하는 형태로 바꿔줍니다."
      ],
      "metadata": {
        "id": "ZG_SPnvU_91q"
      },
      "execution_count": null,
      "outputs": []
    },
    {
      "cell_type": "code",
      "source": [
        "print(\"첫번째 숫자를 입력해주세요\")\n",
        "num1 = input() #숫자를 문자로 받은 상태\n",
        "num1 = int(num1) # int()는 정수 껍데기를 씌우는 거라고 생각해주세요\n",
        "print(\"두번째 숫자를 입력해주세요\")\n",
        "num2 = input()\n",
        "num2 = int(num2)\n",
        "hap = num1 + num2\n",
        "print(hap)\n",
        "print(\"두 수의 합은 \" + str(hap) + '이구만') # 여기에서 우리는 문자열 껍데기가 필요해요 str()"
      ],
      "metadata": {
        "colab": {
          "base_uri": "https://localhost:8080/"
        },
        "id": "x4V3rJENAfKq",
        "outputId": "b0a47f11-6e63-4487-a1dd-5da31b79b450"
      },
      "execution_count": null,
      "outputs": [
        {
          "output_type": "stream",
          "name": "stdout",
          "text": [
            "첫번째 숫자를 입력해주세요\n",
            "12\n",
            "두번째 숫자를 입력해주세요\n",
            "13\n",
            "25\n",
            "두 수의 합은 25이구만\n"
          ]
        }
      ]
    },
    {
      "cell_type": "code",
      "source": [
        "# 오늘은 여기까지할게요 감사합니다. 내일봬요 ㅎ"
      ],
      "metadata": {
        "id": "dZwLb-xcG7JS"
      },
      "execution_count": null,
      "outputs": []
    },
    {
      "cell_type": "code",
      "source": [
        "# 조건문 if 뭐뭐\n",
        "# 만약에 ~가 참이라면"
      ],
      "metadata": {
        "id": "Je2qiLN9HHa4"
      },
      "execution_count": null,
      "outputs": []
    },
    {
      "cell_type": "code",
      "source": [
        "a = 1000\n",
        "if a < 100:\n",
        "  print(\"100보다 작구만\")\n",
        "if a > 100:\n",
        "  print(\"100보다 크구만\")"
      ],
      "metadata": {
        "id": "ZefdiuVLHNNE",
        "outputId": "855e31eb-b4bc-4e62-89e7-3ef7bee9720e",
        "colab": {
          "base_uri": "https://localhost:8080/"
        }
      },
      "execution_count": null,
      "outputs": [
        {
          "output_type": "stream",
          "name": "stdout",
          "text": [
            "100보다 크구만\n"
          ]
        }
      ]
    },
    {
      "cell_type": "code",
      "source": [
        "# 조건문 if에 포함되는 문장은 들여쓰기를 해서 구분합니다."
      ],
      "metadata": {
        "id": "Sc7ltnhyHWao"
      },
      "execution_count": null,
      "outputs": []
    },
    {
      "cell_type": "code",
      "source": [
        "print(\"나이를 입력하세요\")\n",
        "age = input()\n",
        "age = int(age)\n",
        "if age > 25:\n",
        "  print(\"늙었구만\")\n",
        "if age < 25:\n",
        "  print(\"젊구만\")"
      ],
      "metadata": {
        "id": "GRSSo9s7Ha6R",
        "outputId": "32084ff8-3dc2-4ae5-dc4d-eb0af01f2b55",
        "colab": {
          "base_uri": "https://localhost:8080/"
        }
      },
      "execution_count": null,
      "outputs": [
        {
          "output_type": "stream",
          "name": "stdout",
          "text": [
            "나이를 입력하세요\n",
            "22\n",
            "젊구만\n"
          ]
        }
      ]
    },
    {
      "cell_type": "code",
      "source": [
        "# if else 조건이 참인경우와 거짓인 경우에 실행할 문장을 따로 구분 #else 뒤에는 조건식을 쓰지 않아요\n",
        "print(\"나이를 입력하세요\")\n",
        "age = input()\n",
        "age = int(age)\n",
        "if age > 25:\n",
        "  print(\"늙었구만\")\n",
        "else:\n",
        "  print(\"젊구만\")"
      ],
      "metadata": {
        "id": "Wf-t963wHmpG",
        "outputId": "e2c8b2be-1bc7-4c97-96ff-13d1a95f6c60",
        "colab": {
          "base_uri": "https://localhost:8080/"
        }
      },
      "execution_count": null,
      "outputs": [
        {
          "output_type": "stream",
          "name": "stdout",
          "text": [
            "나이를 입력하세요\n",
            "12\n",
            "젊구만\n"
          ]
        }
      ]
    },
    {
      "cell_type": "code",
      "source": [
        "# 이번에는 여러개의 조건이 있는 경우 if elif else\n",
        "print(\"나이를 입력하세요\")\n",
        "age = input()\n",
        "age = int(age)\n",
        "if age > 25:\n",
        "  print(\"늙었구만\")\n",
        "else:\n",
        "  if age < 10:\n",
        "    print(\"너무 어린거 아니심?\")\n",
        "  else:\n",
        "    print(\"젊구만\")"
      ],
      "metadata": {
        "id": "SyG47m3UHz5k",
        "outputId": "c7c8d547-50ed-4ab7-e4c7-e1534894d1d7",
        "colab": {
          "base_uri": "https://localhost:8080/"
        }
      },
      "execution_count": null,
      "outputs": [
        {
          "output_type": "stream",
          "name": "stdout",
          "text": [
            "나이를 입력하세요\n",
            "8\n",
            "너무 어린거 아니심?\n"
          ]
        }
      ]
    },
    {
      "cell_type": "code",
      "source": [
        "print(\"나이를 입력하세요\")\n",
        "age = input()\n",
        "age = int(age)\n",
        "if age > 25:\n",
        "  print(\"늙었구만\")\n",
        "elif age < 10:\n",
        "  print(\"너무 어린거 아니심?\")\n",
        "else:\n",
        "  print(\"젊구만\")"
      ],
      "metadata": {
        "id": "2EazwcRMIHE7",
        "outputId": "0332dcc1-c15e-4242-da27-902a5a1d1619",
        "colab": {
          "base_uri": "https://localhost:8080/"
        }
      },
      "execution_count": null,
      "outputs": [
        {
          "output_type": "stream",
          "name": "stdout",
          "text": [
            "나이를 입력하세요\n",
            "50\n",
            "늙었구만\n"
          ]
        }
      ]
    },
    {
      "cell_type": "code",
      "source": [
        "# 네 오늘 수업은 여기까지 할게요 조건문을 살펴보았어요 내일은 반복문? 네 안녕히 계세요"
      ],
      "metadata": {
        "id": "PgzlEBddIdYD"
      },
      "execution_count": null,
      "outputs": []
    },
    {
      "cell_type": "code",
      "source": [
        "# 감사합니다. 여러분!"
      ],
      "metadata": {
        "id": "yko8NELqIn8K"
      },
      "execution_count": null,
      "outputs": []
    },
    {
      "cell_type": "code",
      "source": [
        "# 반복문\n",
        "# 파이썬의 반복문은 while for 이 있습니다. 오늘은 while문을 먼저 볼게요"
      ],
      "metadata": {
        "id": "TWX6uL87tcXu"
      },
      "execution_count": null,
      "outputs": []
    },
    {
      "cell_type": "code",
      "source": [
        "# while문은 if문이랑 비슷해요"
      ],
      "metadata": {
        "id": "f7SnpKHotjpH"
      },
      "execution_count": null,
      "outputs": []
    },
    {
      "cell_type": "code",
      "source": [
        "i = 10 # 초기화 초기식\n",
        "while i< 5: #조건식\n",
        "  print(i)\n",
        "  i= i+1 #증감식\n",
        "print(\"==========\")\n",
        "print(i)"
      ],
      "metadata": {
        "id": "oa3_7VdTtlxt",
        "outputId": "f42b4c9b-2465-497a-d645-7052272b1b69",
        "colab": {
          "base_uri": "https://localhost:8080/"
        }
      },
      "execution_count": null,
      "outputs": [
        {
          "output_type": "stream",
          "name": "stdout",
          "text": [
            "==========\n",
            "10\n"
          ]
        }
      ]
    },
    {
      "cell_type": "code",
      "source": [
        "while b< 5: #b가 무엇인지 알수 없어서 오류남\n",
        "  print(i)\n",
        "  b= b+1 #증감식\n",
        "print(\"==========\")\n",
        "print(b)"
      ],
      "metadata": {
        "id": "If_nvLmLt7kG",
        "outputId": "da7ea2b6-8d7e-4d3d-ac35-f83f5a405819",
        "colab": {
          "base_uri": "https://localhost:8080/",
          "height": 248
        }
      },
      "execution_count": null,
      "outputs": [
        {
          "output_type": "error",
          "ename": "NameError",
          "evalue": "ignored",
          "traceback": [
            "\u001b[0;31m---------------------------------------------------------------------------\u001b[0m",
            "\u001b[0;31mNameError\u001b[0m                                 Traceback (most recent call last)",
            "\u001b[0;32m<ipython-input-6-c2ed0c5f038b>\u001b[0m in \u001b[0;36m<module>\u001b[0;34m()\u001b[0m\n\u001b[0;32m----> 1\u001b[0;31m \u001b[0;32mwhile\u001b[0m \u001b[0mb\u001b[0m\u001b[0;34m<\u001b[0m \u001b[0;36m5\u001b[0m\u001b[0;34m:\u001b[0m \u001b[0;31m#조건식\u001b[0m\u001b[0;34m\u001b[0m\u001b[0;34m\u001b[0m\u001b[0m\n\u001b[0m\u001b[1;32m      2\u001b[0m   \u001b[0mprint\u001b[0m\u001b[0;34m(\u001b[0m\u001b[0mi\u001b[0m\u001b[0;34m)\u001b[0m\u001b[0;34m\u001b[0m\u001b[0;34m\u001b[0m\u001b[0m\n\u001b[1;32m      3\u001b[0m   \u001b[0mb\u001b[0m\u001b[0;34m=\u001b[0m \u001b[0mb\u001b[0m\u001b[0;34m+\u001b[0m\u001b[0;36m1\u001b[0m \u001b[0;31m#증감식\u001b[0m\u001b[0;34m\u001b[0m\u001b[0;34m\u001b[0m\u001b[0m\n\u001b[1;32m      4\u001b[0m \u001b[0mprint\u001b[0m\u001b[0;34m(\u001b[0m\u001b[0;34m\"==========\"\u001b[0m\u001b[0;34m)\u001b[0m\u001b[0;34m\u001b[0m\u001b[0;34m\u001b[0m\u001b[0m\n\u001b[1;32m      5\u001b[0m \u001b[0mprint\u001b[0m\u001b[0;34m(\u001b[0m\u001b[0mb\u001b[0m\u001b[0;34m)\u001b[0m\u001b[0;34m\u001b[0m\u001b[0;34m\u001b[0m\u001b[0m\n",
            "\u001b[0;31mNameError\u001b[0m: name 'b' is not defined"
          ]
        }
      ]
    },
    {
      "cell_type": "code",
      "source": [
        "# while 문은 조건이 참인 동안 계속 반복해요\n",
        "# 두개의 정수를 입력받아 그 합을 구하는 프로그램을 작성하세요 단 두 수가 모두 0이면 반복을 종료합니다."
      ],
      "metadata": {
        "id": "ZTkQO0ZouCS-"
      },
      "execution_count": null,
      "outputs": []
    },
    {
      "cell_type": "code",
      "source": [
        "while True:\n",
        "  print(\"첫번째 숫자를 입력하세요\")\n",
        "  num1 = input()\n",
        "  num1 = int(num1)\n",
        "  print(\"두번째 숫자를 입력하세요\")\n",
        "  num2 = input()\n",
        "  num2 = int(num2)\n",
        "  if num1 ==0 and num2 ==0:\n",
        "    break\n",
        "  hap = num1 +num2\n",
        "  print(\"두수의 합은 \"+ str(hap))\n",
        "print(\"안녕\")"
      ],
      "metadata": {
        "id": "XvVZn5p1uQZk",
        "outputId": "0c41cba1-b638-44ea-8a21-2fbba988d6f4",
        "colab": {
          "base_uri": "https://localhost:8080/"
        }
      },
      "execution_count": null,
      "outputs": [
        {
          "output_type": "stream",
          "name": "stdout",
          "text": [
            "첫번째 숫자를 입력하세요\n",
            "1\n",
            "en번째 숫자를 입력하세요\n",
            "2\n",
            "두수의 합은 3\n",
            "첫번째 숫자를 입력하세요\n",
            "0\n",
            "en번째 숫자를 입력하세요\n",
            "0\n",
            "안녕\n"
          ]
        }
      ]
    },
    {
      "cell_type": "code",
      "source": [
        "# 오늘은 리스트"
      ],
      "metadata": {
        "id": "eEsclDwNuxLr"
      },
      "execution_count": null,
      "outputs": []
    },
    {
      "cell_type": "code",
      "source": [
        "# 리스트는 변수와 같이 값을 저장하는 공간인데 여러개를 저장할 수 있답니다."
      ],
      "metadata": {
        "id": "lWSqGAWla4fi"
      },
      "execution_count": null,
      "outputs": []
    },
    {
      "cell_type": "code",
      "source": [
        "a = 10\n",
        "print(a)"
      ],
      "metadata": {
        "id": "vHqkCkCia9n0",
        "outputId": "29acafaa-b393-498d-9f83-fb9e54ba177d",
        "colab": {
          "base_uri": "https://localhost:8080/"
        }
      },
      "execution_count": null,
      "outputs": [
        {
          "output_type": "stream",
          "name": "stdout",
          "text": [
            "10\n"
          ]
        }
      ]
    },
    {
      "cell_type": "code",
      "source": [
        "a = [1,2,3]"
      ],
      "metadata": {
        "id": "t-eCJ_OMbAfN"
      },
      "execution_count": null,
      "outputs": []
    },
    {
      "cell_type": "code",
      "source": [
        "b=[4,5,6]"
      ],
      "metadata": {
        "id": "UdiDik4bbCet"
      },
      "execution_count": null,
      "outputs": []
    },
    {
      "cell_type": "code",
      "source": [
        "c = [7,8,9]"
      ],
      "metadata": {
        "id": "J7zC0CjgbEkZ"
      },
      "execution_count": null,
      "outputs": []
    },
    {
      "cell_type": "code",
      "source": [
        "print(a)"
      ],
      "metadata": {
        "id": "1jHdEYcobGog",
        "outputId": "7d60772c-de0e-4e2e-b3be-0d83e1f241e4",
        "colab": {
          "base_uri": "https://localhost:8080/"
        }
      },
      "execution_count": null,
      "outputs": [
        {
          "output_type": "stream",
          "name": "stdout",
          "text": [
            "[1, 2, 3]\n"
          ]
        }
      ]
    },
    {
      "cell_type": "code",
      "source": [
        "print(b)"
      ],
      "metadata": {
        "id": "x512Eq_vbImO",
        "outputId": "3be759b7-8d73-48d0-c3ea-6490c6a4e6d4",
        "colab": {
          "base_uri": "https://localhost:8080/"
        }
      },
      "execution_count": null,
      "outputs": [
        {
          "output_type": "stream",
          "name": "stdout",
          "text": [
            "[4, 5, 6]\n"
          ]
        }
      ]
    },
    {
      "cell_type": "code",
      "source": [
        "print(c)"
      ],
      "metadata": {
        "id": "Jw3hbfUzbJR4",
        "outputId": "e0d472a0-35d0-4314-a233-3814fdcace62",
        "colab": {
          "base_uri": "https://localhost:8080/"
        }
      },
      "execution_count": null,
      "outputs": [
        {
          "output_type": "stream",
          "name": "stdout",
          "text": [
            "[7, 8, 9]\n"
          ]
        }
      ]
    },
    {
      "cell_type": "code",
      "source": [
        "print(a[0]) # 인덱싱을 통해서 하나씩 꺼내쓸 수 있음"
      ],
      "metadata": {
        "id": "rw1DkMT6bKNH",
        "outputId": "57d723a0-2183-4372-c95c-5c5abc811785",
        "colab": {
          "base_uri": "https://localhost:8080/"
        }
      },
      "execution_count": null,
      "outputs": [
        {
          "output_type": "stream",
          "name": "stdout",
          "text": [
            "1\n"
          ]
        }
      ]
    },
    {
      "cell_type": "code",
      "source": [
        "print(a[1])"
      ],
      "metadata": {
        "id": "o3Mg6JdGbLp9",
        "outputId": "0c1da2b2-c0b4-473d-ccc4-a18a7d14ce93",
        "colab": {
          "base_uri": "https://localhost:8080/"
        }
      },
      "execution_count": null,
      "outputs": [
        {
          "output_type": "stream",
          "name": "stdout",
          "text": [
            "2\n"
          ]
        }
      ]
    },
    {
      "cell_type": "code",
      "source": [
        "print(a[2])"
      ],
      "metadata": {
        "id": "J5lgTmUQbM6y",
        "outputId": "7a4239cd-79bc-40bf-eac5-5e7a6140292e",
        "colab": {
          "base_uri": "https://localhost:8080/"
        }
      },
      "execution_count": null,
      "outputs": [
        {
          "output_type": "stream",
          "name": "stdout",
          "text": [
            "3\n"
          ]
        }
      ]
    },
    {
      "cell_type": "code",
      "source": [
        "print(a[3]) # 인덱스가 없을경우 출력이 안됨"
      ],
      "metadata": {
        "id": "8bYWSIxXbON1",
        "outputId": "0c7f7967-eb08-4f35-dfff-2cea96f90940",
        "colab": {
          "base_uri": "https://localhost:8080/",
          "height": 174
        }
      },
      "execution_count": null,
      "outputs": [
        {
          "output_type": "error",
          "ename": "IndexError",
          "evalue": "ignored",
          "traceback": [
            "\u001b[0;31m---------------------------------------------------------------------------\u001b[0m",
            "\u001b[0;31mIndexError\u001b[0m                                Traceback (most recent call last)",
            "\u001b[0;32m<ipython-input-13-cdcf0273e007>\u001b[0m in \u001b[0;36m<module>\u001b[0;34m()\u001b[0m\n\u001b[0;32m----> 1\u001b[0;31m \u001b[0mprint\u001b[0m\u001b[0;34m(\u001b[0m\u001b[0ma\u001b[0m\u001b[0;34m[\u001b[0m\u001b[0;36m3\u001b[0m\u001b[0;34m]\u001b[0m\u001b[0;34m)\u001b[0m \u001b[0;31m# 인덱스가 없을경우 출력이 안됨\u001b[0m\u001b[0;34m\u001b[0m\u001b[0;34m\u001b[0m\u001b[0m\n\u001b[0m",
            "\u001b[0;31mIndexError\u001b[0m: list index out of range"
          ]
        }
      ]
    },
    {
      "cell_type": "code",
      "source": [
        "a[0] = 100 # 리스트 안의 숫자 변경 가능"
      ],
      "metadata": {
        "id": "udskPrbRbXga"
      },
      "execution_count": null,
      "outputs": []
    },
    {
      "cell_type": "code",
      "source": [
        "print(a)"
      ],
      "metadata": {
        "id": "3JQzG5zGbcB-",
        "outputId": "d252b66f-8bf0-48d3-da77-bf5fa6881540",
        "colab": {
          "base_uri": "https://localhost:8080/"
        }
      },
      "execution_count": null,
      "outputs": [
        {
          "output_type": "stream",
          "name": "stdout",
          "text": [
            "[100, 2, 3]\n"
          ]
        }
      ]
    },
    {
      "cell_type": "code",
      "source": [
        "d=[a,b,c] # 리스트로 리스트를 만들수 있음 = list of list"
      ],
      "metadata": {
        "id": "k-tLBxBUbdDI"
      },
      "execution_count": null,
      "outputs": []
    },
    {
      "cell_type": "code",
      "source": [
        "print(d)"
      ],
      "metadata": {
        "id": "p9XKwHtCbiZB",
        "outputId": "8fa1ecef-2718-4306-c96c-0ecc67b7b45d",
        "colab": {
          "base_uri": "https://localhost:8080/"
        }
      },
      "execution_count": null,
      "outputs": [
        {
          "output_type": "stream",
          "name": "stdout",
          "text": [
            "[[100, 2, 3], [4, 5, 6], [7, 8, 9]]\n"
          ]
        }
      ]
    },
    {
      "cell_type": "code",
      "source": [
        "print(d[0][2])"
      ],
      "metadata": {
        "id": "InvrS3-Rbk3o",
        "outputId": "a56ae327-268c-4982-c860-bc355096fb6f",
        "colab": {
          "base_uri": "https://localhost:8080/"
        }
      },
      "execution_count": null,
      "outputs": [
        {
          "output_type": "stream",
          "name": "stdout",
          "text": [
            "3\n"
          ]
        }
      ]
    },
    {
      "cell_type": "code",
      "source": [
        "han = [3,45,56,67,4,4,6,67,78,8,2,3,4,45]"
      ],
      "metadata": {
        "id": "URsof0uAboH_"
      },
      "execution_count": null,
      "outputs": []
    },
    {
      "cell_type": "code",
      "source": [
        "print(len(han))"
      ],
      "metadata": {
        "id": "2US3NbiabxCa",
        "outputId": "1aec2490-d969-46bc-e06a-c662043edf0d",
        "colab": {
          "base_uri": "https://localhost:8080/"
        }
      },
      "execution_count": null,
      "outputs": [
        {
          "output_type": "stream",
          "name": "stdout",
          "text": [
            "14\n"
          ]
        }
      ]
    },
    {
      "cell_type": "code",
      "source": [
        "len(\"hello\")"
      ],
      "metadata": {
        "id": "13bikmCMbzAY",
        "outputId": "b4d4980e-b029-405a-83d7-a217a21f7405",
        "colab": {
          "base_uri": "https://localhost:8080/"
        }
      },
      "execution_count": null,
      "outputs": [
        {
          "output_type": "execute_result",
          "data": {
            "text/plain": [
              "5"
            ]
          },
          "metadata": {},
          "execution_count": 21
        }
      ]
    },
    {
      "cell_type": "code",
      "source": [
        "# 사용자가 입력한 값이 리스트이 몇번 인덱스인지 알려주는 문제(없으면 없다고 해주기)\n",
        "han = [3,45,56,67,4,4,6,67,78,8,2,3,4,45]\n",
        "print(\"찾고자 하는 값을 입력해 주세요\")\n",
        "num = input()\n",
        "num = int(num)\n",
        "i = 0\n",
        "c = 0\n",
        "while i<len(han):\n",
        "  if num == han[i]:\n",
        "    print(\"찾고자 하는 값의 인덱스는 \"+ str(i))\n",
        "    c = 1\n",
        "  i = i+1\n",
        "print(\"반복문이 종료된후 i의 값은 =\"+str(i))\n",
        "if c==0:\n",
        "  print(\"없어용\")"
      ],
      "metadata": {
        "id": "FbwEA_0lb08A",
        "outputId": "4e420b78-cf79-4faf-faa6-9f6a1ee8971b",
        "colab": {
          "base_uri": "https://localhost:8080/"
        }
      },
      "execution_count": null,
      "outputs": [
        {
          "output_type": "stream",
          "name": "stdout",
          "text": [
            "찾고자 하는 값을 입력해 주세요\n",
            "3\n",
            "찾고자 하는 값의 인덱스는 0\n",
            "찾고자 하는 값의 인덱스는 11\n",
            "반복문이 종료된후 i의 값은 =14\n"
          ]
        }
      ]
    },
    {
      "cell_type": "code",
      "source": [
        "# 오늘 6차시 수업 들어주셔서 진심으로 감사드립니다. 주말 잘 보내세요."
      ],
      "metadata": {
        "id": "GuRRH0JDc-R0"
      },
      "execution_count": null,
      "outputs": []
    },
    {
      "cell_type": "code",
      "source": [
        "# 리스트의 값을 추가하려면 리스트이름.append(추가할 값)"
      ],
      "metadata": {
        "id": "ofTyUK9xcnkC"
      },
      "execution_count": 1,
      "outputs": []
    },
    {
      "cell_type": "code",
      "source": [
        "a = [1,2,3,4,5]"
      ],
      "metadata": {
        "id": "Cg9TWvp6KUza"
      },
      "execution_count": 2,
      "outputs": []
    },
    {
      "cell_type": "code",
      "source": [
        "print(a)"
      ],
      "metadata": {
        "id": "iR-nDzwWKXJl",
        "outputId": "78af4383-4be6-4425-d1ca-964deff30ed2",
        "colab": {
          "base_uri": "https://localhost:8080/"
        }
      },
      "execution_count": 3,
      "outputs": [
        {
          "output_type": "stream",
          "name": "stdout",
          "text": [
            "[1, 2, 3, 4, 5]\n"
          ]
        }
      ]
    },
    {
      "cell_type": "code",
      "source": [
        "a.append(100)"
      ],
      "metadata": {
        "id": "KX3sb7FIKaAg"
      },
      "execution_count": 4,
      "outputs": []
    },
    {
      "cell_type": "code",
      "source": [
        "print(a)"
      ],
      "metadata": {
        "id": "tqimSiDSKbtW",
        "outputId": "84a96017-f818-4bbd-e833-21d9d994367a",
        "colab": {
          "base_uri": "https://localhost:8080/"
        }
      },
      "execution_count": 5,
      "outputs": [
        {
          "output_type": "stream",
          "name": "stdout",
          "text": [
            "[1, 2, 3, 4, 5, 100]\n"
          ]
        }
      ]
    },
    {
      "cell_type": "code",
      "source": [
        "a.pop() #리스트에서 특정값을 제거할때 리스트이름.pop()"
      ],
      "metadata": {
        "id": "15Yvq3TmKczI",
        "outputId": "aa601462-a29f-4f23-e4d1-11cfaa45b025",
        "colab": {
          "base_uri": "https://localhost:8080/"
        }
      },
      "execution_count": 6,
      "outputs": [
        {
          "output_type": "execute_result",
          "data": {
            "text/plain": [
              "100"
            ]
          },
          "metadata": {},
          "execution_count": 6
        }
      ]
    },
    {
      "cell_type": "code",
      "source": [
        "print(a)"
      ],
      "metadata": {
        "id": "cC021FD2Kd-a",
        "outputId": "468228dd-25d9-4320-dd5c-139e800fbf5f",
        "colab": {
          "base_uri": "https://localhost:8080/"
        }
      },
      "execution_count": 7,
      "outputs": [
        {
          "output_type": "stream",
          "name": "stdout",
          "text": [
            "[1, 2, 3, 4, 5]\n"
          ]
        }
      ]
    },
    {
      "cell_type": "code",
      "source": [
        "a.pop(0) #인덱스로 원하는 값 빼내기 가능"
      ],
      "metadata": {
        "id": "49GxyU_yKeaB",
        "outputId": "ae29b3f4-4cfe-4602-9b9b-930cd4fb75fa",
        "colab": {
          "base_uri": "https://localhost:8080/"
        }
      },
      "execution_count": 8,
      "outputs": [
        {
          "output_type": "execute_result",
          "data": {
            "text/plain": [
              "1"
            ]
          },
          "metadata": {},
          "execution_count": 8
        }
      ]
    },
    {
      "cell_type": "code",
      "source": [
        "print(a)"
      ],
      "metadata": {
        "id": "1Kn32MwOKg7U",
        "outputId": "ac7ed5d7-1d45-485e-e827-16f34ba94504",
        "colab": {
          "base_uri": "https://localhost:8080/"
        }
      },
      "execution_count": 9,
      "outputs": [
        {
          "output_type": "stream",
          "name": "stdout",
          "text": [
            "[2, 3, 4, 5]\n"
          ]
        }
      ]
    },
    {
      "cell_type": "code",
      "source": [
        "a.reverse() # 순서뒤집기"
      ],
      "metadata": {
        "id": "OB_Vh_GbKhib"
      },
      "execution_count": 10,
      "outputs": []
    },
    {
      "cell_type": "code",
      "source": [
        "print(a)"
      ],
      "metadata": {
        "id": "h-hdmNOQKtqc",
        "outputId": "815740a3-0e4b-4145-b55e-2960f07a1a65",
        "colab": {
          "base_uri": "https://localhost:8080/"
        }
      },
      "execution_count": 11,
      "outputs": [
        {
          "output_type": "stream",
          "name": "stdout",
          "text": [
            "[5, 4, 3, 2]\n"
          ]
        }
      ]
    },
    {
      "cell_type": "code",
      "source": [
        "data = 1 3 4 5 6 7 #,와 괄호가 없으면 리스트 생성 불가능"
      ],
      "metadata": {
        "id": "FiNqsn7uKuMO",
        "outputId": "a01b5d3e-c31a-41e4-a7e9-27801e44f55d",
        "colab": {
          "base_uri": "https://localhost:8080/",
          "height": 138
        }
      },
      "execution_count": 12,
      "outputs": [
        {
          "output_type": "error",
          "ename": "SyntaxError",
          "evalue": "ignored",
          "traceback": [
            "\u001b[0;36m  File \u001b[0;32m\"<ipython-input-12-88e9ec7b665d>\"\u001b[0;36m, line \u001b[0;32m1\u001b[0m\n\u001b[0;31m    data = 1 3 4 5 6 7 #,와 괄호가 없으면 리스트 생성 불가능\u001b[0m\n\u001b[0m             ^\u001b[0m\n\u001b[0;31mSyntaxError\u001b[0m\u001b[0;31m:\u001b[0m invalid syntax\n"
          ]
        }
      ]
    },
    {
      "cell_type": "code",
      "source": [
        "data = \"1 2 3 4 5 56 54 4 4 3 3 3 3\""
      ],
      "metadata": {
        "id": "CHPTBWRIK6WQ"
      },
      "execution_count": 13,
      "outputs": []
    },
    {
      "cell_type": "code",
      "source": [
        "data.split() #공백을 기준으로 뜯어서 리스트 형성"
      ],
      "metadata": {
        "id": "dpU7fPgMK-fd",
        "outputId": "65fa8504-6296-431c-b407-30b087acc99d",
        "colab": {
          "base_uri": "https://localhost:8080/"
        }
      },
      "execution_count": 14,
      "outputs": [
        {
          "output_type": "execute_result",
          "data": {
            "text/plain": [
              "['1', '2', '3', '4', '5', '56', '54', '4', '4', '3', '3', '3', '3']"
            ]
          },
          "metadata": {},
          "execution_count": 14
        }
      ]
    },
    {
      "cell_type": "code",
      "source": [
        "# 사용자로부터 리스트에 값을 계속 추가하는 프로그램 만약 음수가 입력되면 종료\n",
        "# 그리고 몇개를 입력했는지 알려주는 프로그램\n",
        "a = []\n",
        "count = 0\n",
        "print(a)\n",
        "while True:\n",
        "  num = input()\n",
        "  num = int(num)\n",
        "  if num <0:\n",
        "    break\n",
        "  a.append(num)\n",
        "  count = count + 1\n",
        "print(a)\n",
        "print(str(count) + \"개를 입력하셨구만\")\n",
        "print(str(len(a))+ \"개를 입력했어요\")"
      ],
      "metadata": {
        "id": "1BY_310CLBl2",
        "outputId": "0ec09596-684a-4e2d-fc2e-b6c5c94dc819",
        "colab": {
          "base_uri": "https://localhost:8080/"
        }
      },
      "execution_count": 19,
      "outputs": [
        {
          "output_type": "stream",
          "name": "stdout",
          "text": [
            "[]\n",
            "1\n",
            "3\n",
            "4\n",
            "-1\n",
            "[1, 3, 4]\n",
            "3개를 입력하셨구만\n",
            "3개를 입력했어요\n"
          ]
        }
      ]
    },
    {
      "cell_type": "code",
      "source": [
        "# 오늘은 함수에 대해서 알아볼게요\n",
        "# 함수는 미리 만들어진 함수가 너무 많죠 그런데 우리는 함수를 잘 사용해보려구 함수\n",
        "# 만드는 것도 알아볼게요"
      ],
      "metadata": {
        "id": "Xg6ZqqlRLsEu"
      },
      "execution_count": null,
      "outputs": []
    },
    {
      "cell_type": "code",
      "source": [
        "# 1함수를 만드는것을 함수 정의라 합니다.\n",
        "# 2함수를 사용하는 것을 함수 호출이라고 합니다.\n",
        "# 3매개변수는 함수가 외부로부터 값을 전달 받는 변수\n",
        "# 4함수에서 나온 결과를 다시 이용하려고 가지고 오는 것을 함수의 반환이라고 합니다.\n",
        "# 예) name = input()"
      ],
      "metadata": {
        "id": "Y1c9TdhpLbB9"
      },
      "execution_count": 20,
      "outputs": []
    },
    {
      "cell_type": "code",
      "source": [
        "def hamsoo():\n",
        "  print(\"Thank you\")"
      ],
      "metadata": {
        "id": "7qdSu90_MZMx"
      },
      "execution_count": 21,
      "outputs": []
    },
    {
      "cell_type": "code",
      "source": [
        "# 함수를 정의했다고 실행되지는 않아요 우리가 print()를 쓰는 것처럼\n",
        "# 우리가 만든 함수도 이름을 써주시면 그게 실행입니다."
      ],
      "metadata": {
        "id": "O3eT2lTsMcrf"
      },
      "execution_count": 22,
      "outputs": []
    },
    {
      "cell_type": "code",
      "source": [
        "hamsoo()"
      ],
      "metadata": {
        "id": "A9jInyGOMm_3",
        "outputId": "6d57a414-56d6-4c29-a6f0-4c6325edd728",
        "colab": {
          "base_uri": "https://localhost:8080/"
        }
      },
      "execution_count": 23,
      "outputs": [
        {
          "output_type": "stream",
          "name": "stdout",
          "text": [
            "Thank you\n"
          ]
        }
      ]
    },
    {
      "cell_type": "code",
      "source": [
        "hamsoo()\n",
        "hamsoo()\n",
        "hamsoo()"
      ],
      "metadata": {
        "id": "sf6bFyA6MqYT",
        "outputId": "48624b9c-6da7-4f9e-ae2d-d762706a40fa",
        "colab": {
          "base_uri": "https://localhost:8080/"
        }
      },
      "execution_count": 25,
      "outputs": [
        {
          "output_type": "stream",
          "name": "stdout",
          "text": [
            "Thank you\n",
            "Thank you\n",
            "Thank you\n"
          ]
        }
      ]
    },
    {
      "cell_type": "code",
      "source": [
        "def add(n,m):\n",
        "  print(n+m)"
      ],
      "metadata": {
        "id": "jswKNOIxMsMj"
      },
      "execution_count": 30,
      "outputs": []
    },
    {
      "cell_type": "code",
      "source": [
        "add() #매개변수 없이 실행하면 오류가 남"
      ],
      "metadata": {
        "id": "VbzEb99HM_9k",
        "outputId": "67072977-9196-45c4-be38-a41e4dd5b973",
        "colab": {
          "base_uri": "https://localhost:8080/",
          "height": 176
        }
      },
      "execution_count": 27,
      "outputs": [
        {
          "output_type": "error",
          "ename": "TypeError",
          "evalue": "ignored",
          "traceback": [
            "\u001b[0;31m---------------------------------------------------------------------------\u001b[0m",
            "\u001b[0;31mTypeError\u001b[0m                                 Traceback (most recent call last)",
            "\u001b[0;32m<ipython-input-27-4dbd64c1d9b1>\u001b[0m in \u001b[0;36m<module>\u001b[0;34m()\u001b[0m\n\u001b[0;32m----> 1\u001b[0;31m \u001b[0madd\u001b[0m\u001b[0;34m(\u001b[0m\u001b[0;34m)\u001b[0m \u001b[0;31m#매개변수 없이 실행하면 오류가 남\u001b[0m\u001b[0;34m\u001b[0m\u001b[0;34m\u001b[0m\u001b[0m\n\u001b[0m",
            "\u001b[0;31mTypeError\u001b[0m: add() missing 2 required positional arguments: 'n' and 'm'"
          ]
        }
      ]
    },
    {
      "cell_type": "code",
      "source": [
        "add(1,3)"
      ],
      "metadata": {
        "id": "lGILFGynNCvT",
        "outputId": "88780180-d598-41f5-e10d-f9024cfa6af5",
        "colab": {
          "base_uri": "https://localhost:8080/"
        }
      },
      "execution_count": 28,
      "outputs": [
        {
          "output_type": "stream",
          "name": "stdout",
          "text": [
            "4\n"
          ]
        }
      ]
    },
    {
      "cell_type": "code",
      "source": [
        "def add(n,m,p):\n",
        "  print(n+m+p)\n",
        "add(1,3,5)"
      ],
      "metadata": {
        "id": "zFVzx3oJNEZn",
        "outputId": "2c92fc3f-b91b-482b-9d71-17f60f89f7c1",
        "colab": {
          "base_uri": "https://localhost:8080/"
        }
      },
      "execution_count": 31,
      "outputs": [
        {
          "output_type": "stream",
          "name": "stdout",
          "text": [
            "9\n"
          ]
        }
      ]
    },
    {
      "cell_type": "code",
      "source": [
        "# return 반환"
      ],
      "metadata": {
        "id": "ph9JYsIeNRQf"
      },
      "execution_count": 32,
      "outputs": []
    },
    {
      "cell_type": "code",
      "source": [
        "def add(n,m):\n",
        "  return(n+m)"
      ],
      "metadata": {
        "id": "QOc96EwcNToz"
      },
      "execution_count": 33,
      "outputs": []
    },
    {
      "cell_type": "code",
      "source": [
        "a = add(3,4)\n",
        "b = add(5,a)\n",
        "print(a)\n",
        "print(b)"
      ],
      "metadata": {
        "id": "XTRZ6VduNXy1",
        "outputId": "e2822081-5c01-4edb-fb2c-5b6cd786bda4",
        "colab": {
          "base_uri": "https://localhost:8080/"
        }
      },
      "execution_count": 36,
      "outputs": [
        {
          "output_type": "stream",
          "name": "stdout",
          "text": [
            "7\n",
            "12\n"
          ]
        }
      ]
    },
    {
      "cell_type": "code",
      "source": [
        ""
      ],
      "metadata": {
        "id": "G0L5k1amNZqp"
      },
      "execution_count": null,
      "outputs": []
    }
  ]
}